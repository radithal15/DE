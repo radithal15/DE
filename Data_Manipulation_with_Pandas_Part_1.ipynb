{
  "nbformat": 4,
  "nbformat_minor": 0,
  "metadata": {
    "colab": {
      "provenance": [],
      "authorship_tag": "ABX9TyN+KGlBOx/DAKezwxSKSekW",
      "include_colab_link": true
    },
    "kernelspec": {
      "name": "python3",
      "display_name": "Python 3"
    },
    "language_info": {
      "name": "python"
    }
  },
  "cells": [
    {
      "cell_type": "markdown",
      "metadata": {
        "id": "view-in-github",
        "colab_type": "text"
      },
      "source": [
        "<a href=\"https://colab.research.google.com/github/radithal15/DE-Komdigi/blob/main/Data_Manipulation_with_Pandas_Part_1.ipynb\" target=\"_parent\"><img src=\"https://colab.research.google.com/assets/colab-badge.svg\" alt=\"Open In Colab\"/></a>"
      ]
    },
    {
      "cell_type": "markdown",
      "source": [
        "Memanggil Library Pandas"
      ],
      "metadata": {
        "id": "Nk8CRVdd2dMF"
      }
    },
    {
      "cell_type": "code",
      "execution_count": null,
      "metadata": {
        "id": "ZwnMVzAw1tZs"
      },
      "outputs": [],
      "source": [
        "import pandas as pd\n",
        "import numpy as np"
      ]
    },
    {
      "cell_type": "markdown",
      "source": [
        "DataFrame & Series"
      ],
      "metadata": {
        "id": "uhKghdB42mb7"
      }
    },
    {
      "cell_type": "code",
      "source": [
        "import pandas as pd\n",
        "# Series\n",
        "number_list = pd.Series([1, 2, 3, 4, 5, 6])\n",
        "print(\"Series:\")\n",
        "print(number_list)\n",
        "# DataFrame\n",
        "matrix = [[1, 2, 3],\n",
        "          ['a', 'b', 'c'],\n",
        "          [3, 4, 5],\n",
        "          ['d', 4, 6]]\n",
        "matrix_list = pd.DataFrame(matrix)\n",
        "print(\"DataFrame:\")\n",
        "print(matrix_list)"
      ],
      "metadata": {
        "colab": {
          "base_uri": "https://localhost:8080/"
        },
        "id": "PJzyMQEv2mx6",
        "outputId": "841d0c04-d644-41ad-bd62-fe7deb83563f"
      },
      "execution_count": null,
      "outputs": [
        {
          "output_type": "stream",
          "name": "stdout",
          "text": [
            "Series:\n",
            "0    1\n",
            "1    2\n",
            "2    3\n",
            "3    4\n",
            "4    5\n",
            "5    6\n",
            "dtype: int64\n",
            "DataFrame:\n",
            "   0  1  2\n",
            "0  1  2  3\n",
            "1  a  b  c\n",
            "2  3  4  5\n",
            "3  d  4  6\n"
          ]
        }
      ]
    },
    {
      "cell_type": "markdown",
      "source": [
        "Atribut DataFrame & Series - Part 1"
      ],
      "metadata": {
        "id": "JXzq7lph4S9o"
      }
    },
    {
      "cell_type": "code",
      "source": [
        "import pandas as pd\n",
        "# Series\n",
        "number_list = pd.Series([1,2,3,4,5,6])\n",
        "# DataFrame\n",
        "matrix_list = pd.DataFrame([[1,2,3],\n",
        "\t\t\t\t            ['a','b','c'],\n",
        "\t\t\t\t            [3,4,5],\n",
        "\t\t\t\t            ['d',4,6]])\n",
        "# [1] method .info()\n",
        "print(\"[1] method .info()\")\n",
        "print(matrix_list.info())\n",
        "# [2] attribute .shape\n",
        "print(\"\\n[2] attribute .shape\")\n",
        "print(\"    Shape dari number_list:\", number_list.shape)\n",
        "print(\"    Shape dari matrix_list:\", matrix_list.shape)\n",
        "# [3] attribute .dtypes\n",
        "print(\"\\n[3] attribute .dtypes\")\n",
        "print(\"    Tipe data number_list:\", number_list.dtypes)\n",
        "print(\"    Tipe data matrix_list:\", matrix_list.dtypes)\n",
        "# [4] attribute .astype()\n",
        "print(\"\\n[4] method .astype()\")\n",
        "print(\"    Konversi number_list ke str:\", number_list.astype(\"str\"))\n",
        "print(\"    Konversi matrix_list ke str:\", matrix_list.astype(\"str\"))"
      ],
      "metadata": {
        "colab": {
          "base_uri": "https://localhost:8080/"
        },
        "id": "AHAS9oqW4bs1",
        "outputId": "7d7a44e4-bd1c-43b2-f9d4-b47ba724c1f2"
      },
      "execution_count": null,
      "outputs": [
        {
          "output_type": "stream",
          "name": "stdout",
          "text": [
            "[1] method .info()\n",
            "<class 'pandas.core.frame.DataFrame'>\n",
            "RangeIndex: 4 entries, 0 to 3\n",
            "Data columns (total 3 columns):\n",
            " #   Column  Non-Null Count  Dtype \n",
            "---  ------  --------------  ----- \n",
            " 0   0       4 non-null      object\n",
            " 1   1       4 non-null      object\n",
            " 2   2       4 non-null      object\n",
            "dtypes: object(3)\n",
            "memory usage: 228.0+ bytes\n",
            "None\n",
            "\n",
            "[2] attribute .shape\n",
            "    Shape dari number_list: (6,)\n",
            "    Shape dari matrix_list: (4, 3)\n",
            "\n",
            "[3] attribute .dtypes\n",
            "    Tipe data number_list: int64\n",
            "    Tipe data matrix_list: 0    object\n",
            "1    object\n",
            "2    object\n",
            "dtype: object\n",
            "\n",
            "[4] method .astype()\n",
            "    Konversi number_list ke str: 0    1\n",
            "1    2\n",
            "2    3\n",
            "3    4\n",
            "4    5\n",
            "5    6\n",
            "dtype: object\n",
            "    Konversi matrix_list ke str:    0  1  2\n",
            "0  1  2  3\n",
            "1  a  b  c\n",
            "2  3  4  5\n",
            "3  d  4  6\n"
          ]
        }
      ]
    },
    {
      "cell_type": "markdown",
      "source": [
        "Atribut DataFrame & Series - Part 2"
      ],
      "metadata": {
        "id": "tOzJe9QT5xgz"
      }
    },
    {
      "cell_type": "code",
      "source": [
        "import pandas as pd\n",
        "# Series\n",
        "number_list = pd.Series([1,2,3,4,5,6])\n",
        "# DataFrame\n",
        "matrix_list = pd.DataFrame([[1,2,3],\n",
        "\t\t\t\t            ['a','b','c'],\n",
        "\t\t\t\t            [3,4,5],\n",
        "\t\t\t\t            ['d',4,6]])\n",
        "# [5] attribute .copy()\n",
        "print(\"[5] attribute .copy()\")\n",
        "num_list = number_list.copy()\n",
        "print(\"    Copy number_list ke num_list:\", num_list)\n",
        "mtr_list = matrix_list.copy()\n",
        "print(\"    Copy matrix_list ke mtr_list:\", mtr_list)\n",
        "# [6] attribute .to_list()\n",
        "print(\"[6] attribute .to_list()\")\n",
        "print(number_list.to_list())\n",
        "# [7] attribute .unique()\n",
        "print(\"[7] attribute .unique()\")\n",
        "print(number_list.unique())"
      ],
      "metadata": {
        "colab": {
          "base_uri": "https://localhost:8080/"
        },
        "id": "hhJjSJPa6qFi",
        "outputId": "b3b7463c-af7a-4704-c868-5205ae63580d"
      },
      "execution_count": null,
      "outputs": [
        {
          "output_type": "stream",
          "name": "stdout",
          "text": [
            "[5] attribute .copy()\n",
            "    Copy number_list ke num_list: 0    1\n",
            "1    2\n",
            "2    3\n",
            "3    4\n",
            "4    5\n",
            "5    6\n",
            "dtype: int64\n",
            "    Copy matrix_list ke mtr_list:    0  1  2\n",
            "0  1  2  3\n",
            "1  a  b  c\n",
            "2  3  4  5\n",
            "3  d  4  6\n",
            "[6] attribute .to_list()\n",
            "[1, 2, 3, 4, 5, 6]\n",
            "[7] attribute .unique()\n",
            "[1 2 3 4 5 6]\n"
          ]
        }
      ]
    },
    {
      "cell_type": "markdown",
      "source": [
        "Atribut DataFrame & Series - Part 3"
      ],
      "metadata": {
        "id": "LmCdELim6wMj"
      }
    },
    {
      "cell_type": "code",
      "source": [
        "import pandas as pd\n",
        "# Series\n",
        "number_list = pd.Series([1,2,3,4,5,6])\n",
        "# DataFrame\n",
        "matrix_list = pd.DataFrame([[1,2,3],\n",
        "\t\t\t\t            ['a','b','c'],\n",
        "\t\t\t\t            [3,4,5],\n",
        "\t\t\t\t            ['d',4,6]])\n",
        "# [8] attribute .index\n",
        "print(\"[8] attribute .index\")\n",
        "print(\"    Index number_list:\", number_list.index)\n",
        "print(\"    Index matrix_list:\", matrix_list.index)\n",
        "# [9] attribute .columns\n",
        "print(\"[9] attribute .columns\")\n",
        "print(\"    Column matrix_list:\", matrix_list.columns)\n",
        "# [10] attribute .loc\n",
        "print(\"[10] attribute .loc\")\n",
        "print(\"    .loc[0:1] pada number_list:\", number_list.loc[0:1])\n",
        "print(\"    .loc[0:1] pada matrix_list:\", matrix_list.loc[0:1])\n",
        "# [11] attribute .iloc\n",
        "print(\"[11] attribute .iloc\")\n",
        "print(\"    iloc[0:1] pada number_list:\", number_list.iloc[0:1])\n",
        "print(\"    iloc[0:1] pada matrix_list:\", matrix_list.iloc[0:1])"
      ],
      "metadata": {
        "colab": {
          "base_uri": "https://localhost:8080/"
        },
        "id": "0wln4yn56wXC",
        "outputId": "37b20675-324a-42c0-8dc0-d4b0ffbeb2f6"
      },
      "execution_count": null,
      "outputs": [
        {
          "output_type": "stream",
          "name": "stdout",
          "text": [
            "[8] attribute .index\n",
            "    Index number_list: RangeIndex(start=0, stop=6, step=1)\n",
            "    Index matrix_list: RangeIndex(start=0, stop=4, step=1)\n",
            "[9] attribute .columns\n",
            "    Column matrix_list: RangeIndex(start=0, stop=3, step=1)\n",
            "[10] attribute .loc\n",
            "    .loc[0:1] pada number_list: 0    1\n",
            "1    2\n",
            "dtype: int64\n",
            "    .loc[0:1] pada matrix_list:    0  1  2\n",
            "0  1  2  3\n",
            "1  a  b  c\n",
            "[11] attribute .iloc\n",
            "    iloc[0:1] pada number_list: 0    1\n",
            "dtype: int64\n",
            "    iloc[0:1] pada matrix_list:    0  1  2\n",
            "0  1  2  3\n"
          ]
        }
      ]
    },
    {
      "cell_type": "markdown",
      "source": [
        "Creating Series & Dataframe from List"
      ],
      "metadata": {
        "id": "mP9X9nIY7oan"
      }
    },
    {
      "cell_type": "code",
      "source": [
        "import pandas as pd\n",
        "# Creating series from list\n",
        "ex_list = ['a',1,3,5,'c','d']\n",
        "ex_series = pd.Series(ex_list)\n",
        "print(ex_series)\n",
        "# Creating dataframe from list of list\n",
        "ex_list_of_list = [[1, 'a', 'b', 'c'],\n",
        "                   [2.5, 'd', 'e', 'f'],\n",
        "\t\t           [5, 'g', 'h', 'i'],\n",
        "\t\t           [7.5, 'j', 10.5, 'l']]\n",
        "index = ['dq', 'lab', 'kar', 'lan']\n",
        "cols = ['float', 'char', 'obj', 'char']\n",
        "ex_df = pd.DataFrame(ex_list_of_list, index=index, columns=cols)\n",
        "print(ex_df)"
      ],
      "metadata": {
        "id": "xuak4Hnm9jtI"
      },
      "execution_count": null,
      "outputs": []
    },
    {
      "cell_type": "markdown",
      "source": [
        "Creating Series & Dataframe from Dictionary"
      ],
      "metadata": {
        "id": "R8PBwjD7wI_H"
      }
    },
    {
      "cell_type": "code",
      "source": [
        "import pandas as pd\n",
        "# Creating series from dictionary\n",
        "dict_series = {'1':'a',\n",
        "\t\t\t   '2':'b',\n",
        "\t\t\t   '3':'c'}\n",
        "ex_series = pd.Series(dict_series)\n",
        "print(ex_series)\n",
        "# Creating dataframe from dictionary\n",
        "df_series = {'1':['a', 'b', 'c'],\n",
        "             '2':['b', 'c', 'd'],\n",
        "             '4':[2,3, 'z']}\n",
        "ex_df = pd.DataFrame(df_series)\n",
        "print(ex_df)"
      ],
      "metadata": {
        "colab": {
          "base_uri": "https://localhost:8080/"
        },
        "id": "9iC5MbGUwJJI",
        "outputId": "f8a038a1-63cd-436d-b5cb-8bde939b1a53"
      },
      "execution_count": null,
      "outputs": [
        {
          "output_type": "stream",
          "name": "stdout",
          "text": [
            "1    a\n",
            "2    b\n",
            "3    c\n",
            "dtype: object\n",
            "   1  2  4\n",
            "0  a  b  2\n",
            "1  b  c  3\n",
            "2  c  d  z\n"
          ]
        }
      ]
    },
    {
      "cell_type": "markdown",
      "source": [
        "Creating Series & Dataframe from Numpy Array"
      ],
      "metadata": {
        "id": "qP-thbKxxsHS"
      }
    },
    {
      "cell_type": "code",
      "source": [
        "import pandas as pd\n",
        "import numpy as np\n",
        "# Creating series from numpy array (1D)\n",
        "arr_series = np.array([1,2,3,4,5,6,6,7])\n",
        "ex_series = pd.Series(arr_series)\n",
        "print(ex_series)\n",
        "# Creating dataframe from numpy array (2D)\n",
        "arr_df = np.array([[1, 2, 3, 5],\n",
        "                   [5, 6, 7, 8],\n",
        "                   ['a', 'b', 'c', 10]])\n",
        "ex_df = pd.DataFrame(arr_df)\n",
        "print(ex_df)"
      ],
      "metadata": {
        "colab": {
          "base_uri": "https://localhost:8080/"
        },
        "id": "v7jtuJP6xsZS",
        "outputId": "e925ba6e-dbe7-4f85-ed47-bd274b3e9495"
      },
      "execution_count": null,
      "outputs": [
        {
          "output_type": "stream",
          "name": "stdout",
          "text": [
            "0    1\n",
            "1    2\n",
            "2    3\n",
            "3    4\n",
            "4    5\n",
            "5    6\n",
            "6    6\n",
            "7    7\n",
            "dtype: int64\n",
            "   0  1  2   3\n",
            "0  1  2  3   5\n",
            "1  5  6  7   8\n",
            "2  a  b  c  10\n"
          ]
        }
      ]
    },
    {
      "cell_type": "markdown",
      "source": [
        "Read Dataset - CSV dan TSV"
      ],
      "metadata": {
        "id": "xKAbocThy8I_"
      }
    },
    {
      "cell_type": "code",
      "source": [
        "import pandas as pd\n",
        "# File CSV\n",
        "df_csv = pd.read_csv('https://storage.googleapis.com/dqlab-dataset/sample_csv.csv')\n",
        "print(df_csv.head(3)) # Menampilkan 3 data teratas\n",
        "# File TSV\n",
        "df_tsv = pd.read_csv('https://storage.googleapis.com/dqlab-dataset/sample_tsv.tsv', sep='\\t')\n",
        "print(df_tsv.head(3)) # Menampilkan 3 data teratas"
      ],
      "metadata": {
        "colab": {
          "base_uri": "https://localhost:8080/"
        },
        "id": "Ibla1IyN0efr",
        "outputId": "a136889d-87e8-4aff-cf84-638fbe2ed6fd"
      },
      "execution_count": null,
      "outputs": [
        {
          "output_type": "stream",
          "name": "stdout",
          "text": [
            "   order_id  order_date  customer_id             city     province product_id  \\\n",
            "0   1612339  2019-01-01        18055  Jakarta Selatan  DKI Jakarta      P0648   \n",
            "1   1612339  2019-01-01        18055  Jakarta Selatan  DKI Jakarta      P3826   \n",
            "2   1612339  2019-01-01        18055  Jakarta Selatan  DKI Jakarta      P1508   \n",
            "\n",
            "     brand  quantity  item_price  \n",
            "0  BRAND_C         4     1934000  \n",
            "1  BRAND_V         8      604000  \n",
            "2  BRAND_G        12      747000  \n",
            "   order_id  order_date  customer_id             city     province product_id  \\\n",
            "0   1612339  2019-01-01        18055  Jakarta Selatan  DKI Jakarta      P0648   \n",
            "1   1612339  2019-01-01        18055  Jakarta Selatan  DKI Jakarta      P3826   \n",
            "2   1612339  2019-01-01        18055  Jakarta Selatan  DKI Jakarta      P1508   \n",
            "\n",
            "     brand  quantity  item_price  \n",
            "0  BRAND_C         4     1934000  \n",
            "1  BRAND_V         8      604000  \n",
            "2  BRAND_G        12      747000  \n"
          ]
        }
      ]
    },
    {
      "cell_type": "markdown",
      "source": [
        "Read Dataset - Excel"
      ],
      "metadata": {
        "id": "rgh0xRwY1eCB"
      }
    },
    {
      "cell_type": "code",
      "source": [
        "import pandas as pd\n",
        "# File xlsx dengan data di sheet \"test\"\n",
        "df_excel = pd.read_excel('https://storage.googleapis.com/dqlab-dataset/sample_excel.xlsx', sheet_name='test')\n",
        "print(df_excel.head(4)) # Menampilkan 4 data teratas"
      ],
      "metadata": {
        "colab": {
          "base_uri": "https://localhost:8080/"
        },
        "id": "NG_GYdzs1ecQ",
        "outputId": "61518fe6-f8f9-4b69-bac0-f43b44108178"
      },
      "execution_count": null,
      "outputs": [
        {
          "output_type": "stream",
          "name": "stdout",
          "text": [
            "   order_id  order_date  customer_id             city     province product_id  \\\n",
            "0   1612339  2019-01-01        18055  Jakarta Selatan  DKI Jakarta      P0648   \n",
            "1   1612339  2019-01-01        18055  Jakarta Selatan  DKI Jakarta      P3826   \n",
            "2   1612339  2019-01-01        18055  Jakarta Selatan  DKI Jakarta      P1508   \n",
            "3   1612339  2019-01-01        18055  Jakarta Selatan  DKI Jakarta      P0520   \n",
            "\n",
            "     brand  quantity  item_price  \n",
            "0  BRAND_C         4     1934000  \n",
            "1  BRAND_V         8      604000  \n",
            "2  BRAND_G        12      747000  \n",
            "3  BRAND_B        12      450000  \n"
          ]
        }
      ]
    },
    {
      "cell_type": "markdown",
      "source": [
        "Read Dataset - JSON"
      ],
      "metadata": {
        "id": "QK9q8BV32Mlx"
      }
    },
    {
      "cell_type": "code",
      "source": [
        "import pandas as pd\n",
        "# File JSON\n",
        "url = 'https://storage.googleapis.com/dqlab-dataset/covid2019-api-herokuapp-v2.json'\n",
        "df_json = pd.read_json(url)\n",
        "print(df_json.head(10)) # Menampilkan 10 data teratas"
      ],
      "metadata": {
        "colab": {
          "base_uri": "https://localhost:8080/"
        },
        "id": "MVsyJlbO2Pv-",
        "outputId": "37e069d6-c455-4977-fdca-4679344d95f9"
      },
      "execution_count": null,
      "outputs": [
        {
          "output_type": "stream",
          "name": "stdout",
          "text": [
            "                                                data          dt          ts\n",
            "0  {'location': 'US', 'confirmed': 3363056, 'deat...  07-14-2020  1594684800\n",
            "1  {'location': 'Brazil', 'confirmed': 1884967, '...  07-14-2020  1594684800\n",
            "2  {'location': 'India', 'confirmed': 906752, 'de...  07-14-2020  1594684800\n",
            "3  {'location': 'Russia', 'confirmed': 732547, 'd...  07-14-2020  1594684800\n",
            "4  {'location': 'Peru', 'confirmed': 330123, 'dea...  07-14-2020  1594684800\n",
            "5  {'location': 'Chile', 'confirmed': 317657, 'de...  07-14-2020  1594684800\n",
            "6  {'location': 'Mexico', 'confirmed': 304435, 'd...  07-14-2020  1594684800\n",
            "7  {'location': 'United Kingdom', 'confirmed': 29...  07-14-2020  1594684800\n",
            "8  {'location': 'South Africa', 'confirmed': 2877...  07-14-2020  1594684800\n",
            "9  {'location': 'Iran', 'confirmed': 259652, 'dea...  07-14-2020  1594684800\n"
          ]
        }
      ]
    },
    {
      "cell_type": "markdown",
      "source": [
        "Read Dataset - SQL"
      ],
      "metadata": {
        "id": "WRU2x6di2gm6"
      }
    },
    {
      "cell_type": "markdown",
      "source": [
        "*Fungsi .read_sql() atau .read_sql_query() digunakan untuk membaca query dari database dan translate menjadi pandas dataframe*"
      ],
      "metadata": {
        "id": "otnuoODX3hND"
      }
    },
    {
      "cell_type": "markdown",
      "source": [
        "Read Dataset - Google BigQuery"
      ],
      "metadata": {
        "id": "a0Dd9ZB73if8"
      }
    },
    {
      "cell_type": "markdown",
      "source": [
        "Untuk data yang besar (big data), umumnya digunakan Google BigQuery. Layanan ini dapat digunakan jika telah memiliki Google BigQuery account.\n",
        "Fungsi .read_gbq() digunakan untuk membaca Google BigQuery table menjadi dataframe pandas. *teks yang dimiringkan*"
      ],
      "metadata": {
        "id": "Aq03mpwT3oG_"
      }
    },
    {
      "cell_type": "markdown",
      "source": [
        "Write Dataset"
      ],
      "metadata": {
        "id": "5JRRR1VS3sxF"
      }
    },
    {
      "cell_type": "markdown",
      "source": [
        "to_csv()\n",
        "→ digunakan untuk export dataframe kembali ke csv atau tsv\n",
        "CSV\n",
        "df.to_csv(\"csv1.csv\", index=False)\n",
        "\n",
        "TSV\n",
        "df.to_csv(\"tsv1.tsv\", index=False, sep='\\t')"
      ],
      "metadata": {
        "id": "3Qokc5c930u2"
      }
    },
    {
      "cell_type": "markdown",
      "source": [
        "to_clipboard()\n",
        "\n",
        "→ export dataframe menjadi bahan copy jadi nanti bisa tinggal klik paste di excel atau google sheets"
      ],
      "metadata": {
        "id": "cwdq4Jie4GIO"
      }
    },
    {
      "cell_type": "markdown",
      "source": [
        "to_excel()\n",
        "\n",
        "→ export dataframe menjadi file excel\n",
        "df_excel.to_excel(\"xlsx1.xlsx\", index=False)"
      ],
      "metadata": {
        "id": "TIJKpvoN4Mqs"
      }
    },
    {
      "cell_type": "markdown",
      "source": [
        "to_gbq()\n",
        "\n",
        "→ export dataframe menjadi table di Google BigQuery\n",
        "df.to_gbq(\"temp.test\", project_id=\"XXXXXX\", if_exists=\"fail\")\n",
        "temp: nama dataset,\n",
        "\n",
        "test: nama table\n",
        "\n",
        "if_exists: ketika tabel dengan dataset.table_name yang sama sudah ada, apa action yang ingin dilakukan\n",
        "\n",
        "(\"fail\": tidak melakukan apa-apa,\n",
        "\n",
        " \"replace': membuang tabel yang sudah ada dan mengganti yang baru,\n",
        "\n",
        " \"append\": menambah baris di tabel tersebut dengan data yang baru\n",
        "\n",
        ")"
      ],
      "metadata": {
        "id": "HlVxnXOD4l10"
      }
    },
    {
      "cell_type": "markdown",
      "source": [
        "Head & Tail"
      ],
      "metadata": {
        "id": "flege6VW4urZ"
      }
    },
    {
      "cell_type": "code",
      "source": [
        "import pandas as pd\n",
        "# Baca file sample_csv.csv\n",
        "df = pd.read_csv('https://storage.googleapis.com/dqlab-dataset/sample_csv.csv')\n",
        "# Tampilkan 3 data teratas\n",
        "print(\"Tiga data teratas:\\n\", df.head(3))\n",
        "# Tampilkan 3 data terbawah\n",
        "print(\"Tiga data terbawah:\\n\", df.tail(3))"
      ],
      "metadata": {
        "colab": {
          "base_uri": "https://localhost:8080/"
        },
        "id": "Zoen5AAr40xY",
        "outputId": "85a81cca-a919-4c0c-d9f6-1a1c2cdad874"
      },
      "execution_count": null,
      "outputs": [
        {
          "output_type": "stream",
          "name": "stdout",
          "text": [
            "Tiga data teratas:\n",
            "    order_id  order_date  customer_id             city     province product_id  \\\n",
            "0   1612339  2019-01-01        18055  Jakarta Selatan  DKI Jakarta      P0648   \n",
            "1   1612339  2019-01-01        18055  Jakarta Selatan  DKI Jakarta      P3826   \n",
            "2   1612339  2019-01-01        18055  Jakarta Selatan  DKI Jakarta      P1508   \n",
            "\n",
            "     brand  quantity  item_price  \n",
            "0  BRAND_C         4     1934000  \n",
            "1  BRAND_V         8      604000  \n",
            "2  BRAND_G        12      747000  \n",
            "Tiga data terbawah:\n",
            "      order_id  order_date  customer_id      city          province product_id  \\\n",
            "98    1612390  2019-01-01        12681  Makassar  Sulawesi Selatan      P3354   \n",
            "99    1612390  2019-01-01        12681  Makassar  Sulawesi Selatan      P3357   \n",
            "100   1612390  2019-01-01        12681  Makassar  Sulawesi Selatan      P0422   \n",
            "\n",
            "       brand  quantity  item_price  \n",
            "98   BRAND_S        24      450000  \n",
            "99   BRAND_S        24      450000  \n",
            "100  BRAND_B         4     1325000  \n"
          ]
        }
      ]
    },
    {
      "cell_type": "markdown",
      "source": [
        "Indexing - Part 2"
      ],
      "metadata": {
        "id": "8pgFKQgL5Kz_"
      }
    },
    {
      "cell_type": "code",
      "source": [
        "import pandas as pd\n",
        "# Baca file TSV sample_tsv.tsv\n",
        "df = pd.read_csv('https://storage.googleapis.com/dqlab-dataset/sample_tsv.tsv', sep='\\t')\n",
        "# Index dari df\n",
        "print('Index:', df.index)\n",
        "# Column dari df\n",
        "print('Columns:', df.columns)"
      ],
      "metadata": {
        "colab": {
          "base_uri": "https://localhost:8080/"
        },
        "id": "FUBgcjqE5f6h",
        "outputId": "a46fbb4b-54c6-469f-8607-2839999827cc"
      },
      "execution_count": null,
      "outputs": [
        {
          "output_type": "stream",
          "name": "stdout",
          "text": [
            "Index: RangeIndex(start=0, stop=101, step=1)\n",
            "Columns: Index(['order_id', 'order_date', 'customer_id', 'city', 'province',\n",
            "       'product_id', 'brand', 'quantity', 'item_price'],\n",
            "      dtype='object')\n"
          ]
        }
      ]
    },
    {
      "cell_type": "markdown",
      "source": [
        "Indexing - Part 3"
      ],
      "metadata": {
        "id": "dlVSFDrT6STb"
      }
    },
    {
      "cell_type": "code",
      "source": [
        "import pandas as pd\n",
        "# Baca file TSV sample_tsv.tsv\n",
        "df = pd.read_csv('https://storage.googleapis.com/dqlab-dataset/sample_tsv.tsv', sep='\\t')\n",
        "# Set multi index df\n",
        "df_x = df.set_index(['order_date', 'city', 'customer_id'])\n",
        "# Print nama dan level dari multi index\n",
        "for name, level in zip(df_x.index.names, df_x.index.levels):\n",
        "    print(name,':',level)"
      ],
      "metadata": {
        "colab": {
          "base_uri": "https://localhost:8080/"
        },
        "id": "phASKk_w6Tfi",
        "outputId": "c59ddc42-f02b-466a-d858-d136bba13865"
      },
      "execution_count": null,
      "outputs": [
        {
          "output_type": "stream",
          "name": "stdout",
          "text": [
            "order_date : Index(['2019-01-01'], dtype='object', name='order_date')\n",
            "city : Index(['Bogor', 'Jakarta Pusat', 'Jakarta Selatan', 'Jakarta Utara',\n",
            "       'Makassar', 'Malang', 'Surabaya', 'Tangerang'],\n",
            "      dtype='object', name='city')\n",
            "customer_id : Index([12681, 13963, 15649, 17091, 17228, 17450, 17470, 17511, 17616, 18055], dtype='int64', name='customer_id')\n"
          ]
        }
      ]
    },
    {
      "cell_type": "markdown",
      "source": [
        "Indexing - Part 4"
      ],
      "metadata": {
        "id": "CohjPb928RVE"
      }
    },
    {
      "cell_type": "code",
      "source": [
        "import pandas as pd\n",
        "# Baca file sample_tsv.tsv untuk 10 baris pertama saja\n",
        "df = pd.read_csv('https://storage.googleapis.com/dqlab-dataset/sample_tsv.tsv', sep='\\t', nrows=10)\n",
        "# Cetak data frame awal\n",
        "print(\"Dataframe awal:\\n\", df)\n",
        "# Set index baru\n",
        "df.index = [\"Pesanan ke-\" + str(i) for i in range(1, 11)]\n",
        "# Cetak data frame dengan index baru\n",
        "print(\"Dataframe dengan index baru:\\n\", df)"
      ],
      "metadata": {
        "colab": {
          "base_uri": "https://localhost:8080/"
        },
        "id": "pdRb2UtP8R1R",
        "outputId": "683d343d-5be9-48b6-dc8d-3798e8a4f472"
      },
      "execution_count": null,
      "outputs": [
        {
          "output_type": "stream",
          "name": "stdout",
          "text": [
            "Dataframe awal:\n",
            "    order_id  order_date  customer_id             city     province product_id  \\\n",
            "0   1612339  2019-01-01        18055  Jakarta Selatan  DKI Jakarta      P0648   \n",
            "1   1612339  2019-01-01        18055  Jakarta Selatan  DKI Jakarta      P3826   \n",
            "2   1612339  2019-01-01        18055  Jakarta Selatan  DKI Jakarta      P1508   \n",
            "3   1612339  2019-01-01        18055  Jakarta Selatan  DKI Jakarta      P0520   \n",
            "4   1612339  2019-01-01        18055  Jakarta Selatan  DKI Jakarta      P1513   \n",
            "5   1612339  2019-01-01        18055  Jakarta Selatan  DKI Jakarta      P3911   \n",
            "6   1612339  2019-01-01        18055  Jakarta Selatan  DKI Jakarta      P1780   \n",
            "7   1612339  2019-01-01        18055  Jakarta Selatan  DKI Jakarta      P3132   \n",
            "8   1612339  2019-01-01        18055  Jakarta Selatan  DKI Jakarta      P1342   \n",
            "9   1612339  2019-01-01        18055  Jakarta Selatan  DKI Jakarta      P2556   \n",
            "\n",
            "     brand  quantity  item_price  \n",
            "0  BRAND_C         4     1934000  \n",
            "1  BRAND_V         8      604000  \n",
            "2  BRAND_G        12      747000  \n",
            "3  BRAND_B        12      450000  \n",
            "4  BRAND_G         3     1500000  \n",
            "5  BRAND_V         3     2095000  \n",
            "6  BRAND_H         3     2095000  \n",
            "7  BRAND_S         3     1745000  \n",
            "8  BRAND_F         6     1045000  \n",
            "9  BRAND_P         6     1045000  \n",
            "Dataframe dengan index baru:\n",
            "                order_id  order_date  customer_id             city  \\\n",
            "Pesanan ke-1    1612339  2019-01-01        18055  Jakarta Selatan   \n",
            "Pesanan ke-2    1612339  2019-01-01        18055  Jakarta Selatan   \n",
            "Pesanan ke-3    1612339  2019-01-01        18055  Jakarta Selatan   \n",
            "Pesanan ke-4    1612339  2019-01-01        18055  Jakarta Selatan   \n",
            "Pesanan ke-5    1612339  2019-01-01        18055  Jakarta Selatan   \n",
            "Pesanan ke-6    1612339  2019-01-01        18055  Jakarta Selatan   \n",
            "Pesanan ke-7    1612339  2019-01-01        18055  Jakarta Selatan   \n",
            "Pesanan ke-8    1612339  2019-01-01        18055  Jakarta Selatan   \n",
            "Pesanan ke-9    1612339  2019-01-01        18055  Jakarta Selatan   \n",
            "Pesanan ke-10   1612339  2019-01-01        18055  Jakarta Selatan   \n",
            "\n",
            "                  province product_id    brand  quantity  item_price  \n",
            "Pesanan ke-1   DKI Jakarta      P0648  BRAND_C         4     1934000  \n",
            "Pesanan ke-2   DKI Jakarta      P3826  BRAND_V         8      604000  \n",
            "Pesanan ke-3   DKI Jakarta      P1508  BRAND_G        12      747000  \n",
            "Pesanan ke-4   DKI Jakarta      P0520  BRAND_B        12      450000  \n",
            "Pesanan ke-5   DKI Jakarta      P1513  BRAND_G         3     1500000  \n",
            "Pesanan ke-6   DKI Jakarta      P3911  BRAND_V         3     2095000  \n",
            "Pesanan ke-7   DKI Jakarta      P1780  BRAND_H         3     2095000  \n",
            "Pesanan ke-8   DKI Jakarta      P3132  BRAND_S         3     1745000  \n",
            "Pesanan ke-9   DKI Jakarta      P1342  BRAND_F         6     1045000  \n",
            "Pesanan ke-10  DKI Jakarta      P2556  BRAND_P         6     1045000  \n"
          ]
        }
      ]
    },
    {
      "cell_type": "markdown",
      "source": [
        "Indexing - Part 5"
      ],
      "metadata": {
        "id": "BvCo7nxJ9gmx"
      }
    },
    {
      "cell_type": "code",
      "source": [
        "import pandas as pd\n",
        "# Baca file sample_tsv.tsv dan set lah index_col sesuai instruksi\n",
        "df = pd.read_csv('https://storage.googleapis.com/dqlab-dataset/sample_tsv.tsv', sep='\\t', index_col=['order_date', 'order_id'])\n",
        "# Cetak data frame untuk 8 data teratas\n",
        "print(\"Dataframe:\\n\", df.head(8))"
      ],
      "metadata": {
        "colab": {
          "base_uri": "https://localhost:8080/"
        },
        "id": "L9vpsplB9htM",
        "outputId": "049a60e0-a846-4f2e-bce7-d4d0f493ee91"
      },
      "execution_count": null,
      "outputs": [
        {
          "output_type": "stream",
          "name": "stdout",
          "text": [
            "Dataframe:\n",
            "                      customer_id             city     province product_id  \\\n",
            "order_date order_id                                                         \n",
            "2019-01-01 1612339         18055  Jakarta Selatan  DKI Jakarta      P0648   \n",
            "           1612339         18055  Jakarta Selatan  DKI Jakarta      P3826   \n",
            "           1612339         18055  Jakarta Selatan  DKI Jakarta      P1508   \n",
            "           1612339         18055  Jakarta Selatan  DKI Jakarta      P0520   \n",
            "           1612339         18055  Jakarta Selatan  DKI Jakarta      P1513   \n",
            "           1612339         18055  Jakarta Selatan  DKI Jakarta      P3911   \n",
            "           1612339         18055  Jakarta Selatan  DKI Jakarta      P1780   \n",
            "           1612339         18055  Jakarta Selatan  DKI Jakarta      P3132   \n",
            "\n",
            "                       brand  quantity  item_price  \n",
            "order_date order_id                                 \n",
            "2019-01-01 1612339   BRAND_C         4     1934000  \n",
            "           1612339   BRAND_V         8      604000  \n",
            "           1612339   BRAND_G        12      747000  \n",
            "           1612339   BRAND_B        12      450000  \n",
            "           1612339   BRAND_G         3     1500000  \n",
            "           1612339   BRAND_V         3     2095000  \n",
            "           1612339   BRAND_H         3     2095000  \n",
            "           1612339   BRAND_S         3     1745000  \n"
          ]
        }
      ]
    },
    {
      "cell_type": "markdown",
      "source": [
        "Slicing - Part 1"
      ],
      "metadata": {
        "id": "MPndCO_-_jK0"
      }
    },
    {
      "cell_type": "code",
      "source": [
        "import pandas as pd\n",
        "# Baca file sample_csv.csv\n",
        "df = pd.read_csv('https://storage.googleapis.com/dqlab-dataset/sample_csv.csv')\n",
        "# Slice langsung berdasarkan kolom\n",
        "df_slice = df.loc[(df['customer_id'] == '18055') &\n",
        "\t\t          (df['product_id'].isin(['P0029', 'P0040', 'P0041', 'P0116', 'P0117']))\n",
        "\t\t\t\t ]\n",
        "print(\"Slice langsung berdasarkan kolom:\\n\", df_slice)"
      ],
      "metadata": {
        "colab": {
          "base_uri": "https://localhost:8080/"
        },
        "id": "hzj-Yqyd_juM",
        "outputId": "8b8eb9c7-2096-42ab-c9a0-4fe48674ebcb"
      },
      "execution_count": null,
      "outputs": [
        {
          "output_type": "stream",
          "name": "stdout",
          "text": [
            "Slice langsung berdasarkan kolom:\n",
            " Empty DataFrame\n",
            "Columns: [order_id, order_date, customer_id, city, province, product_id, brand, quantity, item_price]\n",
            "Index: []\n"
          ]
        }
      ]
    },
    {
      "cell_type": "markdown",
      "source": [
        "Slicing - Part 2"
      ],
      "metadata": {
        "id": "zJ3ZvvDDAcyQ"
      }
    },
    {
      "cell_type": "code",
      "source": [
        "import pandas as pd\n",
        "# Baca file sample_csv.csv\n",
        "df = pd.read_csv('https://storage.googleapis.com/dqlab-dataset/sample_csv.csv')\n",
        "# Set index dari df sesuai instruksi\n",
        "df = df.set_index(['order_date', 'order_id', 'product_id'])\n",
        "# Slice sesuai intruksi\n",
        "df_slice = df.loc[('2019-01-01',1612339,['P2154', 'P2159']),:]\n",
        "print(\"Slice df:\\n\", df_slice)"
      ],
      "metadata": {
        "colab": {
          "base_uri": "https://localhost:8080/"
        },
        "id": "6fdiHL5hAc9E",
        "outputId": "e6246bf9-cfb5-4a83-a95b-9406a6abad96"
      },
      "execution_count": null,
      "outputs": [
        {
          "output_type": "stream",
          "name": "stdout",
          "text": [
            "Slice df:\n",
            "                                 customer_id             city     province  \\\n",
            "order_date order_id product_id                                              \n",
            "2019-01-01 1612339  P2154             18055  Jakarta Selatan  DKI Jakarta   \n",
            "                    P2159             18055  Jakarta Selatan  DKI Jakarta   \n",
            "\n",
            "                                  brand  quantity  item_price  \n",
            "order_date order_id product_id                                 \n",
            "2019-01-01 1612339  P2154       BRAND_M         4     1745000  \n",
            "                    P2159       BRAND_M        24      310000  \n"
          ]
        }
      ]
    },
    {
      "cell_type": "markdown",
      "source": [
        "Transforming - Part 1"
      ],
      "metadata": {
        "id": "IVFcdYYkEN3X"
      }
    },
    {
      "cell_type": "code",
      "source": [
        "import pandas as pd\n",
        "# Baca file sample_csv.csv\n",
        "df = pd.read_csv('https://storage.googleapis.com/dqlab-dataset/sample_csv.csv')\n",
        "# Tampilkan tipe data\n",
        "print(\"Tipe data df:\\n\", df.dtypes)\n",
        "# Ubah tipe data kolom order_date menjadi datetime\n",
        "df['order_date'] = pd.to_datetime(df['order_date'])\n",
        "# Tampilkan tipe data df setelah transformasi\n",
        "print(\"\\nTipe data df setelah transformasi:\\n\", df.dtypes)"
      ],
      "metadata": {
        "colab": {
          "base_uri": "https://localhost:8080/"
        },
        "id": "8ntrVMA5EOMs",
        "outputId": "e1c0cf09-0e03-416d-eddc-0a1b541312a0"
      },
      "execution_count": null,
      "outputs": [
        {
          "output_type": "stream",
          "name": "stdout",
          "text": [
            "Tipe data df:\n",
            " order_id        int64\n",
            "order_date     object\n",
            "customer_id     int64\n",
            "city           object\n",
            "province       object\n",
            "product_id     object\n",
            "brand          object\n",
            "quantity        int64\n",
            "item_price      int64\n",
            "dtype: object\n",
            "\n",
            "Tipe data df setelah transformasi:\n",
            " order_id                int64\n",
            "order_date     datetime64[ns]\n",
            "customer_id             int64\n",
            "city                   object\n",
            "province               object\n",
            "product_id             object\n",
            "brand                  object\n",
            "quantity                int64\n",
            "item_price              int64\n",
            "dtype: object\n"
          ]
        }
      ]
    },
    {
      "cell_type": "markdown",
      "source": [
        "Transforming - Part 2"
      ],
      "metadata": {
        "id": "FkApyOyqG81d"
      }
    },
    {
      "cell_type": "code",
      "source": [
        "import pandas as pd\n",
        "# Baca file sample_csv.csv\n",
        "df = pd.read_csv('https://storage.googleapis.com/dqlab-dataset/sample_csv.csv')\n",
        "# Tampilkan tipe data\n",
        "print(\"Tipe data df:\\n\", df.dtypes)\n",
        "# Ubah tipe data kolom quantity menjadi tipe data numerik float\n",
        "df['quantity'] = pd.to_numeric(df['quantity'], downcast=\"float\")\n",
        "# Ubah tipe data kolom city menjadi tipe data category\n",
        "df['city'] = df['city'].astype('category')\n",
        "# Tampilkan tipe data df setelah transformasi\n",
        "print(\"\\nTipe data df setelah transformasi:\\n\", df.dtypes)"
      ],
      "metadata": {
        "colab": {
          "base_uri": "https://localhost:8080/"
        },
        "id": "WETL6KiHG8-c",
        "outputId": "afab4833-f71c-49e0-cb66-77a0f4d9914d"
      },
      "execution_count": null,
      "outputs": [
        {
          "output_type": "stream",
          "name": "stdout",
          "text": [
            "Tipe data df:\n",
            " order_id        int64\n",
            "order_date     object\n",
            "customer_id     int64\n",
            "city           object\n",
            "province       object\n",
            "product_id     object\n",
            "brand          object\n",
            "quantity        int64\n",
            "item_price      int64\n",
            "dtype: object\n",
            "\n",
            "Tipe data df setelah transformasi:\n",
            " order_id          int64\n",
            "order_date       object\n",
            "customer_id       int64\n",
            "city           category\n",
            "province         object\n",
            "product_id       object\n",
            "brand            object\n",
            "quantity        float32\n",
            "item_price        int64\n",
            "dtype: object\n"
          ]
        }
      ]
    },
    {
      "cell_type": "markdown",
      "source": [
        "Transforming - Part 3"
      ],
      "metadata": {
        "id": "57wFw6kaInDw"
      }
    },
    {
      "cell_type": "code",
      "source": [
        "import pandas as pd\n",
        "# Baca file sample_csv.csv\n",
        "df = pd.read_csv('https://storage.googleapis.com/dqlab-dataset/sample_csv.csv')\n",
        "# Cetak 5 baris teratas kolom brand\n",
        "print(\"Kolom brand awal:\\n\", df['brand'].head())\n",
        "# Gunakan method apply untuk merubah isi kolom menjadi lower case\n",
        "df[\"brand\"] = df['brand'].apply(lambda x: x.lower())\n",
        "# Cetak 5 baris teratas kolom brand\n",
        "print(\"Kolom brand setelah apply:\\n\", df['brand'].head())\n",
        "# Gunakan method map untuk mengambil kode brand yaitu karakter terakhirnya\n",
        "df['brand'] = df['brand'].map(lambda x: x[-1])\n",
        "# Cetak 5 baris teratas kolom brand\n",
        "print(\"Kolom brand setelah map:\\n\", df['brand'].head())"
      ],
      "metadata": {
        "colab": {
          "base_uri": "https://localhost:8080/"
        },
        "id": "96q19TkQInx2",
        "outputId": "fe9ae186-d538-4938-be29-715c78920a6f"
      },
      "execution_count": null,
      "outputs": [
        {
          "output_type": "stream",
          "name": "stdout",
          "text": [
            "Kolom brand awal:\n",
            " 0    BRAND_C\n",
            "1    BRAND_V\n",
            "2    BRAND_G\n",
            "3    BRAND_B\n",
            "4    BRAND_G\n",
            "Name: brand, dtype: object\n",
            "Kolom brand setelah apply:\n",
            " 0    brand_c\n",
            "1    brand_v\n",
            "2    brand_g\n",
            "3    brand_b\n",
            "4    brand_g\n",
            "Name: brand, dtype: object\n",
            "Kolom brand setelah map:\n",
            " 0    c\n",
            "1    v\n",
            "2    g\n",
            "3    b\n",
            "4    g\n",
            "Name: brand, dtype: object\n"
          ]
        }
      ]
    },
    {
      "cell_type": "markdown",
      "source": [
        "Transforming - Part 4"
      ],
      "metadata": {
        "id": "wScYbWvIJodx"
      }
    },
    {
      "cell_type": "code",
      "source": [
        "import numpy as np\n",
        "import pandas as pd\n",
        "# number generator, set angka seed menjadi suatu angka, bisa semua angka, supaya hasil random nya selalu sama ketika kita run\n",
        "np.random.seed(1234)\n",
        "# create dataframe 3 baris dan 4 kolom dengan angka random\n",
        "df_tr = pd.DataFrame(np.random.rand(3, 4))\n",
        "# Cetak dataframe\n",
        "print(\"Dataframe:\\n\", df_tr)\n",
        "# Cara 1 dengan tanpa define function awalnya, langsung pake fungsi anonymous lambda x\n",
        "df_tr1 = df_tr.applymap(lambda x: x**2 + 3*x + 2)\n",
        "print(\"\\nDataframe - cara 1:\\n\", df_tr1)\n",
        "# Cara 2 dengan define function\n",
        "def qudratic_fun(x):\n",
        "\treturn x**2 + 3*x + 2\n",
        "df_tr2 = df_tr.applymap(qudratic_fun)\n",
        "print(\"\\nDataframe - cara 2:\\n\", df_tr2)"
      ],
      "metadata": {
        "colab": {
          "base_uri": "https://localhost:8080/"
        },
        "id": "malUlYCPJoo2",
        "outputId": "ad275df6-2e29-4718-f9ef-795622cb427e"
      },
      "execution_count": null,
      "outputs": [
        {
          "output_type": "stream",
          "name": "stdout",
          "text": [
            "Dataframe:\n",
            "           0         1         2         3\n",
            "0  0.191519  0.622109  0.437728  0.785359\n",
            "1  0.779976  0.272593  0.276464  0.801872\n",
            "2  0.958139  0.875933  0.357817  0.500995\n",
            "\n",
            "Dataframe - cara 1:\n",
            "           0         1         2         3\n",
            "0  2.611238  4.253346  3.504789  4.972864\n",
            "1  4.948290  2.892085  2.905825  5.048616\n",
            "2  5.792449  5.395056  3.201485  3.753981\n",
            "\n",
            "Dataframe - cara 2:\n",
            "           0         1         2         3\n",
            "0  2.611238  4.253346  3.504789  4.972864\n",
            "1  4.948290  2.892085  2.905825  5.048616\n",
            "2  5.792449  5.395056  3.201485  3.753981\n"
          ]
        },
        {
          "output_type": "stream",
          "name": "stderr",
          "text": [
            "/tmp/ipython-input-2081186530.py:10: FutureWarning: DataFrame.applymap has been deprecated. Use DataFrame.map instead.\n",
            "  df_tr1 = df_tr.applymap(lambda x: x**2 + 3*x + 2)\n",
            "/tmp/ipython-input-2081186530.py:15: FutureWarning: DataFrame.applymap has been deprecated. Use DataFrame.map instead.\n",
            "  df_tr2 = df_tr.applymap(qudratic_fun)\n"
          ]
        }
      ]
    },
    {
      "cell_type": "markdown",
      "source": [
        "Inspeksi Missing Value"
      ],
      "metadata": {
        "id": "SJkJhYKyLVYt"
      }
    },
    {
      "cell_type": "code",
      "source": [
        "import pandas as pd\n",
        "# Baca file \"https://storage.googleapis.com/dqlab-dataset/datacovid19.csv\"\n",
        "df = pd.read_csv('https://storage.googleapis.com/dqlab-dataset/datacovid19.csv')\n",
        "# Cetak info dari df\n",
        "print(df.info())\n",
        "# Cetak jumlah missing value di setiap kolom\n",
        "mv = df.isna().sum()\n",
        "print('\\nJumlah missing value per kolom:\\n', mv)"
      ],
      "metadata": {
        "colab": {
          "base_uri": "https://localhost:8080/"
        },
        "id": "p5_0VnTKLVsX",
        "outputId": "f5b94777-3492-4b00-a79d-aae040b9d8ef"
      },
      "execution_count": null,
      "outputs": [
        {
          "output_type": "stream",
          "name": "stdout",
          "text": [
            "<class 'pandas.core.frame.DataFrame'>\n",
            "RangeIndex: 1000 entries, 0 to 999\n",
            "Data columns (total 13 columns):\n",
            " #   Column          Non-Null Count  Dtype  \n",
            "---  ------          --------------  -----  \n",
            " 0   province_state  960 non-null    object \n",
            " 1   country_region  1000 non-null   object \n",
            " 2   date            1000 non-null   object \n",
            " 3   latitude        874 non-null    float64\n",
            " 4   longitude       874 non-null    float64\n",
            " 5   location_geom   874 non-null    object \n",
            " 6   confirmed       1000 non-null   int64  \n",
            " 7   deaths          999 non-null    float64\n",
            " 8   recovered       999 non-null    float64\n",
            " 9   active          949 non-null    float64\n",
            " 10  fips            949 non-null    float64\n",
            " 11  admin2          842 non-null    object \n",
            " 12  combined_key    0 non-null      float64\n",
            "dtypes: float64(7), int64(1), object(5)\n",
            "memory usage: 101.7+ KB\n",
            "None\n",
            "\n",
            "Jumlah missing value per kolom:\n",
            " province_state      40\n",
            "country_region       0\n",
            "date                 0\n",
            "latitude           126\n",
            "longitude          126\n",
            "location_geom      126\n",
            "confirmed            0\n",
            "deaths               1\n",
            "recovered            1\n",
            "active              51\n",
            "fips                51\n",
            "admin2             158\n",
            "combined_key      1000\n",
            "dtype: int64\n"
          ]
        }
      ]
    },
    {
      "cell_type": "markdown",
      "source": [
        "Treatment untuk Missing Value - Part 1"
      ],
      "metadata": {
        "id": "eXxXev_TMe6S"
      }
    },
    {
      "cell_type": "code",
      "source": [
        "import pandas as pd\n",
        "# Baca file \"https://storage.googleapis.com/dqlab-dataset/datacovid19.csv\"\n",
        "df = pd.read_csv(\"https://storage.googleapis.com/dqlab-dataset/datacovid19.csv\")\n",
        "# Cetak ukuran awal dataframe\n",
        "print(\"Ukuran awal df: %d baris, %d kolom.\" % df.shape)\n",
        "# Drop kolom yang seluruhnya missing value dan cetak ukurannya\n",
        "df = df.dropna(axis=1, how='all')\n",
        "print(\"Ukuran df setelah buang kolom dengan seluruh data missing: %d baris, %d kolom.\" % df.shape)\n",
        "# Drop baris jika ada satu saja data yang missing dan cetak ukurannya\n",
        "df = df.dropna(axis=0, how='any')\n",
        "print(\"Ukuran df setelah dibuang baris yang memiliki sekurangnya 1 missing value: %d baris, %d kolom.\" % df.shape)"
      ],
      "metadata": {
        "colab": {
          "base_uri": "https://localhost:8080/"
        },
        "id": "V0pPavdQMfVO",
        "outputId": "deaab5a9-bacd-47e1-defb-074c1e79a9c6"
      },
      "execution_count": null,
      "outputs": [
        {
          "output_type": "stream",
          "name": "stdout",
          "text": [
            "Ukuran awal df: 1000 baris, 13 kolom.\n",
            "Ukuran df setelah buang kolom dengan seluruh data missing: 1000 baris, 12 kolom.\n",
            "Ukuran df setelah dibuang baris yang memiliki sekurangnya 1 missing value: 746 baris, 12 kolom.\n"
          ]
        }
      ]
    },
    {
      "cell_type": "markdown",
      "source": [
        "Treatment untuk Missing Value - Part 3"
      ],
      "metadata": {
        "id": "DPG_c3owMVlK"
      }
    },
    {
      "cell_type": "code",
      "source": [
        "import pandas as pd\n",
        "# Baca file \"https://storage.googleapis.com/dqlab-dataset/datacovid19.csv\"\n",
        "df = pd.read_csv(\"https://storage.googleapis.com/dqlab-dataset/datacovid19.csv\")\n",
        "# Cetak unique value pada kolom province_state\n",
        "print(\"Unique value awal:\\n\", df[\"province_state\"].unique())\n",
        "# Ganti missing value dengan string \"unknown_province_state\"\n",
        "df[\"province_state\"] = df[\"province_state\"].fillna(\"unknown_province_state\")\n",
        "# Cetak kembali unique value pada kolom province_state\n",
        "print(\"Unique value setelah fillna:\\n\", df[\"province_state\"].unique())"
      ],
      "metadata": {
        "colab": {
          "base_uri": "https://localhost:8080/"
        },
        "id": "7O061tc6OK0i",
        "outputId": "0acb117b-b4a8-4541-8952-53f9d0b9b805"
      },
      "execution_count": null,
      "outputs": [
        {
          "output_type": "stream",
          "name": "stdout",
          "text": [
            "Unique value awal:\n",
            " [nan 'US' 'Guam' 'Iowa']\n",
            "Unique value setelah fillna:\n",
            " ['unknown_province_state' 'US' 'Guam' 'Iowa']\n"
          ]
        }
      ]
    },
    {
      "cell_type": "markdown",
      "source": [
        "Treatment untuk Missing Value - Part 4"
      ],
      "metadata": {
        "id": "qdsPoGQ8Pf_Z"
      }
    },
    {
      "cell_type": "code",
      "source": [
        "import pandas as pd\n",
        "# Baca file \"https://storage.googleapis.com/dqlab-dataset/datacovid19.csv\"\n",
        "df = pd.read_csv(\"https://storage.googleapis.com/dqlab-dataset/datacovid19.csv\")\n",
        "# Cetak nilai mean dan median awal\n",
        "print(\"Awal: mean = %f, median = %f.\" % (df[\"active\"].mean(), df[\"active\"].median()))\n",
        "# Isi missing value kolom active dengan median\n",
        "df_median = df[\"active\"].fillna(df[\"active\"].median())\n",
        "# Cetak nilai mean dan median awal setelah diisi dengan median\n",
        "print(\"Fillna median: mean = %f, median = %f.\" % (df_median.mean(), df_median.median()))\n",
        "# Isi missing value kolom active dengan mean\n",
        "df_mean = df[\"active\"].fillna(df[\"active\"].mean())\n",
        "# Cetak nilai mean dan median awal setelah diisi dengan mean\n",
        "print(\"Fillna mean: mean = %f, median = %f.\" % (df_mean.mean(), df_mean.median()))"
      ],
      "metadata": {
        "colab": {
          "base_uri": "https://localhost:8080/"
        },
        "id": "53VRbyzOPgRo",
        "outputId": "f1a2d2fc-aea3-4bd8-8d8d-80099106d14e"
      },
      "execution_count": null,
      "outputs": [
        {
          "output_type": "stream",
          "name": "stdout",
          "text": [
            "Awal: mean = 192.571128, median = 41.000000.\n",
            "Fillna median: mean = 184.841000, median = 41.000000.\n",
            "Fillna mean: mean = 192.571128, median = 49.000000.\n"
          ]
        }
      ]
    },
    {
      "cell_type": "markdown",
      "source": [
        "Treatment untuk Missing Value - Part 5"
      ],
      "metadata": {
        "id": "vEydDHg1Rn-5"
      }
    },
    {
      "cell_type": "code",
      "source": [
        "import numpy as np\n",
        "import pandas as pd\n",
        "# Data\n",
        "ts = pd.Series({\n",
        "   \"2020-01-01\":9,\n",
        "   \"2020-01-02\":np.nan,\n",
        "   \"2020-01-05\":np.nan,\n",
        "   \"2020-01-07\":24,\n",
        "   \"2020-01-10\":np.nan,\n",
        "   \"2020-01-12\":np.nan,\n",
        "   \"2020-01-15\":33,\n",
        "   \"2020-01-17\":np.nan,\n",
        "   \"2020-01-16\":40,\n",
        "   \"2020-01-20\":45,\n",
        "   \"2020-01-22\":52,\n",
        "   \"2020-01-25\":75,\n",
        "   \"2020-01-28\":np.nan,\n",
        "   \"2020-01-30\":np.nan\n",
        "})\n",
        "# Isi missing value menggunakan interpolasi linier\n",
        "ts = ts.interpolate()\n",
        "# Cetak time series setelah interpolasi linier\n",
        "print(\"Setelah diisi missing valuenya:\\n\", ts)"
      ],
      "metadata": {
        "colab": {
          "base_uri": "https://localhost:8080/"
        },
        "id": "REvoC4RoRpET",
        "outputId": "4749b662-a53c-4d72-e4ac-fb20983175ee"
      },
      "execution_count": null,
      "outputs": [
        {
          "output_type": "stream",
          "name": "stdout",
          "text": [
            "Setelah diisi missing valuenya:\n",
            " 2020-01-01     9.0\n",
            "2020-01-02    14.0\n",
            "2020-01-05    19.0\n",
            "2020-01-07    24.0\n",
            "2020-01-10    27.0\n",
            "2020-01-12    30.0\n",
            "2020-01-15    33.0\n",
            "2020-01-17    36.5\n",
            "2020-01-16    40.0\n",
            "2020-01-20    45.0\n",
            "2020-01-22    52.0\n",
            "2020-01-25    75.0\n",
            "2020-01-28    75.0\n",
            "2020-01-30    75.0\n",
            "dtype: float64\n"
          ]
        }
      ]
    },
    {
      "cell_type": "markdown",
      "source": [
        "Project dari Andra"
      ],
      "metadata": {
        "id": "mP9v0HkraYfZ"
      }
    },
    {
      "cell_type": "code",
      "source": [
        "import pandas as pd\n",
        "\n",
        "# 1. Baca dataset\n",
        "print(\"[1] BACA DATASET\")\n",
        "df = pd.read_csv(\"https://storage.googleapis.com/dqlab-dataset/retail_raw_test.csv\", low_memory=False)\n",
        "print(\" Dataset:\\n\", df.head())\n",
        "print(\" Info:\\n\", df.info())\n",
        "\n",
        "# 2. Ubah tipe data\n",
        "print(\"\\n[2] UBAH TIPE DATA\")\n",
        "df[\"customer_id\"] = df[\"customer_id\"].apply(lambda x: x.split(\"'\")[1]).astype(\"int64\")\n",
        "df[\"quantity\"] = df[\"quantity\"].apply(lambda x: x.split(\"'\")[1]).astype(\"int64\")\n",
        "df[\"item_price\"] = df[\"item_price\"].apply(lambda x: x.split(\"'\")[1]).astype(\"int64\")\n",
        "print(\" Tipe data:\\n\", df.dtypes)\n",
        "\n",
        "# 3. Transform \"product_value\" supaya bentuknya seragam dengan format \"PXXXX\", assign ke kolom baru \"product_id\", dan drop kolom \"product_value\", jika terdapat nan gantilah dengan \"unknown\"\n",
        "print(\"\\n[3] TRANSFORM product_value MENJADI product_id\")\n",
        "# Buat fungsi\n",
        "import math\n",
        "def impute_product_value(val):\n",
        "    if math.isnan(val):\n",
        "        return \"unknown\"\n",
        "    else:\n",
        "        return 'P' + '{:0>4}'.format(str(val).split('.')[0])\n",
        "# Buat kolom \"product_id\"\n",
        "df[\"product_id\"] = df[\"product_value\"].apply(lambda x: impute_product_value(x))\n",
        "# Hapus kolom \"product_value\"\n",
        "df.drop([\"product_value\"], axis=1, inplace=True)\n",
        "# Cetak 5 data teratas\n",
        "print(df.head())\n",
        "\n",
        "# 4. Tranform order_date menjadi value dengan format \"YYYY-mm-dd\"\n",
        "print(\"\\n[4] TRANSFORM order_date MENJADI FORMAT YYYY-mm-dd\")\n",
        "months_dict = {\n",
        "   \t\"Jan\":\"01\",\n",
        "\t\"Feb\":\"02\",\n",
        "\t\"Mar\":\"03\",\n",
        "\t\"Apr\":\"04\",\n",
        "\t\"May\":\"05\",\n",
        "\t\"Jun\":\"06\",\n",
        "\t\"Jul\":\"07\",\n",
        "\t\"Aug\":\"08\",\n",
        "\t\"Sep\":\"09\",\n",
        "\t\"Oct\":\"10\",\n",
        "\t\"Nov\":\"11\",\n",
        "\t\"Dec\":\"12\"\n",
        "}\n",
        "df[\"order_date\"] = pd.to_datetime(df[\"order_date\"].apply(lambda x: str(x)[-4:] + \"-\" + months_dict[str(x)[:3]] + \"-\" + str(x)[4:7]))\n",
        "print(\" Tipe data:\\n\", df.dtypes)\n",
        "\n",
        "# 5. Mengatasi data yang hilang di beberapa kolom\n",
        "print(\"\\n[5] HANDLING MISSING VALUE\")\n",
        "# Kolom \"city\" dan \"province\" masih memiliki missing value, nilai yang hilang di kedua kolom ini diisi saja dengan \"unknown\"\n",
        "df[[\"city\",\"province\"]] = df[[\"city\",\"province\"]].fillna(\"unknown\")\n",
        "# Kolom brand juga masih memiliki missing value, Ganti value NaN menjadi \"no_brand\"\n",
        "df[\"brand\"] = df[\"brand\"].fillna(\"no_brand\")\n",
        "# Cek apakah masih terdapat missing value di seluruh kolom\n",
        "print(\" Info:\\n\", df.info())\n",
        "\n",
        "# 6. Membuat kolom baru \"city/province\" dengan menggabungkan kolom \"city\" dan kolom \"province\" dan delete kolom asalnya\n",
        "print(\"\\n[6] MEMBUAT KOLOM BARU city/province\")\n",
        "df[\"city/province\"] = df[\"city\"] + \"/\" + df[\"province\"]\n",
        "# drop kolom \"city\" dan \"province\" karena telah digabungkan\n",
        "df.drop([\"city\",\"province\"], axis=1, inplace=True)\n",
        "# Cetak 5 data teratas\n",
        "print(df.head())\n",
        "\n",
        "# 7. Membuat hierarchical index yang terdiri dari kolom \"city/province\", \"order_date\", \"customer_id\", \"order_id\", \"product_id\"\n",
        "print(\"\\n[7] MEMBUAT HIERACHICAL INDEX\")\n",
        "df = df.set_index([\"city/province\",\"order_date\",\"customer_id\",\"order_id\",\"product_id\"])\n",
        "# urutkanlah berdasarkan index yang baru\n",
        "df = df.sort_index()\n",
        "# Cetak 5 data teratas\n",
        "print(df.head())\n",
        "\n",
        "# 8. Membuat kolom \"total_price\" yang formula nya perkalian antara kolom \"quantity\" dan kolom \"item_price\"\n",
        "print(\"\\n[8] MEMBUAT KOLOM total_price\")\n",
        "df[\"total_price\"] = df[\"quantity\"] * df[\"item_price\"]\n",
        "# Cetak 5 data teratas\n",
        "print(df.head())\n",
        "\n",
        "# 9. Slice dataset agar hanya terdapat data bulan Januari 2019\n",
        "print(\"\\n[9] SLICE DATASET UNTUK BULAN JANUARI 2019 SAJA\")\n",
        "idx = pd.IndexSlice\n",
        "df_jan2019 = df.loc[idx[:, \"2019-01-01\":\"2019-01-31\"],:]\n",
        "print(\"Dataset akhir:\\n\", df_jan2019)\n",
        "\n",
        "# END OF PROJECT"
      ],
      "metadata": {
        "colab": {
          "base_uri": "https://localhost:8080/"
        },
        "id": "BoW8rv4GaYn0",
        "outputId": "ab4ed887-d65f-40a2-eb29-f3ee755549d1"
      },
      "execution_count": 1,
      "outputs": [
        {
          "output_type": "stream",
          "name": "stdout",
          "text": [
            "[1] BACA DATASET\n",
            " Dataset:\n",
            "    order_id    order_date customer_id           city     province    brand  \\\n",
            "0   1730350  Dec 11, 2019      '13447      Surakarta  Jawa Tengah  BRAND_F   \n",
            "1   1677490  Jul 31, 2019          '0            NaN          NaN  BRAND_F   \n",
            "2   1704211  Oct 18, 2019      '16128  Jakarta Pusat  DKI Jakarta  BRAND_H   \n",
            "3   1679695  Aug 07, 2019      '16225     Yogyakarta   Yogyakarta  BRAND_H   \n",
            "4   1679080  Aug 05, 2019          '0            NaN          NaN  BRAND_E   \n",
            "\n",
            "  quantity item_price  product_value  \n",
            "0      '24    '113000         1374.0  \n",
            "1       '1   '1164000         1370.0  \n",
            "2      '12    '747000         1679.0  \n",
            "3       '6    '590000         1708.0  \n",
            "4       '2    '740000         1201.0  \n",
            "<class 'pandas.core.frame.DataFrame'>\n",
            "RangeIndex: 5000 entries, 0 to 4999\n",
            "Data columns (total 9 columns):\n",
            " #   Column         Non-Null Count  Dtype  \n",
            "---  ------         --------------  -----  \n",
            " 0   order_id       5000 non-null   int64  \n",
            " 1   order_date     5000 non-null   object \n",
            " 2   customer_id    5000 non-null   object \n",
            " 3   city           3802 non-null   object \n",
            " 4   province       3802 non-null   object \n",
            " 5   brand          4995 non-null   object \n",
            " 6   quantity       5000 non-null   object \n",
            " 7   item_price     5000 non-null   object \n",
            " 8   product_value  4995 non-null   float64\n",
            "dtypes: float64(1), int64(1), object(7)\n",
            "memory usage: 351.7+ KB\n",
            " Info:\n",
            " None\n",
            "\n",
            "[2] UBAH TIPE DATA\n",
            " Tipe data:\n",
            " order_id           int64\n",
            "order_date        object\n",
            "customer_id        int64\n",
            "city              object\n",
            "province          object\n",
            "brand             object\n",
            "quantity           int64\n",
            "item_price         int64\n",
            "product_value    float64\n",
            "dtype: object\n",
            "\n",
            "[3] TRANSFORM product_value MENJADI product_id\n",
            "   order_id    order_date  customer_id           city     province    brand  \\\n",
            "0   1730350  Dec 11, 2019        13447      Surakarta  Jawa Tengah  BRAND_F   \n",
            "1   1677490  Jul 31, 2019            0            NaN          NaN  BRAND_F   \n",
            "2   1704211  Oct 18, 2019        16128  Jakarta Pusat  DKI Jakarta  BRAND_H   \n",
            "3   1679695  Aug 07, 2019        16225     Yogyakarta   Yogyakarta  BRAND_H   \n",
            "4   1679080  Aug 05, 2019            0            NaN          NaN  BRAND_E   \n",
            "\n",
            "   quantity  item_price product_id  \n",
            "0        24      113000      P1374  \n",
            "1         1     1164000      P1370  \n",
            "2        12      747000      P1679  \n",
            "3         6      590000      P1708  \n",
            "4         2      740000      P1201  \n",
            "\n",
            "[4] TRANSFORM order_date MENJADI FORMAT YYYY-mm-dd\n",
            " Tipe data:\n",
            " order_id                int64\n",
            "order_date     datetime64[ns]\n",
            "customer_id             int64\n",
            "city                   object\n",
            "province               object\n",
            "brand                  object\n",
            "quantity                int64\n",
            "item_price              int64\n",
            "product_id             object\n",
            "dtype: object\n",
            "\n",
            "[5] HANDLING MISSING VALUE\n",
            "<class 'pandas.core.frame.DataFrame'>\n",
            "RangeIndex: 5000 entries, 0 to 4999\n",
            "Data columns (total 9 columns):\n",
            " #   Column       Non-Null Count  Dtype         \n",
            "---  ------       --------------  -----         \n",
            " 0   order_id     5000 non-null   int64         \n",
            " 1   order_date   5000 non-null   datetime64[ns]\n",
            " 2   customer_id  5000 non-null   int64         \n",
            " 3   city         5000 non-null   object        \n",
            " 4   province     5000 non-null   object        \n",
            " 5   brand        5000 non-null   object        \n",
            " 6   quantity     5000 non-null   int64         \n",
            " 7   item_price   5000 non-null   int64         \n",
            " 8   product_id   5000 non-null   object        \n",
            "dtypes: datetime64[ns](1), int64(4), object(4)\n",
            "memory usage: 351.7+ KB\n",
            " Info:\n",
            " None\n",
            "\n",
            "[6] MEMBUAT KOLOM BARU city/province\n",
            "   order_id order_date  customer_id    brand  quantity  item_price product_id  \\\n",
            "0   1730350 2019-12-11        13447  BRAND_F        24      113000      P1374   \n",
            "1   1677490 2019-07-31            0  BRAND_F         1     1164000      P1370   \n",
            "2   1704211 2019-10-18        16128  BRAND_H        12      747000      P1679   \n",
            "3   1679695 2019-08-07        16225  BRAND_H         6      590000      P1708   \n",
            "4   1679080 2019-08-05            0  BRAND_E         2      740000      P1201   \n",
            "\n",
            "               city/province  \n",
            "0      Surakarta/Jawa Tengah  \n",
            "1            unknown/unknown  \n",
            "2  Jakarta Pusat/DKI Jakarta  \n",
            "3      Yogyakarta/Yogyakarta  \n",
            "4            unknown/unknown  \n",
            "\n",
            "[7] MEMBUAT HIERACHICAL INDEX\n",
            "                                                                     brand  \\\n",
            "city/province          order_date customer_id order_id product_id            \n",
            "Banda Aceh/Aceh        2019-04-17 12818       1642480  P1936       BRAND_K   \n",
            "                       2019-11-12 12360       1715116  P0758       BRAND_C   \n",
            "                                                       P3042       BRAND_R   \n",
            "                       2019-12-09 12374       1729036  P1660       BRAND_G   \n",
            "Bandar Lampung/Lampung 2019-01-15 12515       1619257  P0628       BRAND_C   \n",
            "\n",
            "                                                                   quantity  \\\n",
            "city/province          order_date customer_id order_id product_id             \n",
            "Banda Aceh/Aceh        2019-04-17 12818       1642480  P1936             24   \n",
            "                       2019-11-12 12360       1715116  P0758              8   \n",
            "                                                       P3042             12   \n",
            "                       2019-12-09 12374       1729036  P1660              4   \n",
            "Bandar Lampung/Lampung 2019-01-15 12515       1619257  P0628             12   \n",
            "\n",
            "                                                                   item_price  \n",
            "city/province          order_date customer_id order_id product_id              \n",
            "Banda Aceh/Aceh        2019-04-17 12818       1642480  P1936           450000  \n",
            "                       2019-11-12 12360       1715116  P0758           695000  \n",
            "                                                       P3042           310000  \n",
            "                       2019-12-09 12374       1729036  P1660          2795000  \n",
            "Bandar Lampung/Lampung 2019-01-15 12515       1619257  P0628           695000  \n",
            "\n",
            "[8] MEMBUAT KOLOM total_price\n",
            "                                                                     brand  \\\n",
            "city/province          order_date customer_id order_id product_id            \n",
            "Banda Aceh/Aceh        2019-04-17 12818       1642480  P1936       BRAND_K   \n",
            "                       2019-11-12 12360       1715116  P0758       BRAND_C   \n",
            "                                                       P3042       BRAND_R   \n",
            "                       2019-12-09 12374       1729036  P1660       BRAND_G   \n",
            "Bandar Lampung/Lampung 2019-01-15 12515       1619257  P0628       BRAND_C   \n",
            "\n",
            "                                                                   quantity  \\\n",
            "city/province          order_date customer_id order_id product_id             \n",
            "Banda Aceh/Aceh        2019-04-17 12818       1642480  P1936             24   \n",
            "                       2019-11-12 12360       1715116  P0758              8   \n",
            "                                                       P3042             12   \n",
            "                       2019-12-09 12374       1729036  P1660              4   \n",
            "Bandar Lampung/Lampung 2019-01-15 12515       1619257  P0628             12   \n",
            "\n",
            "                                                                   item_price  \\\n",
            "city/province          order_date customer_id order_id product_id               \n",
            "Banda Aceh/Aceh        2019-04-17 12818       1642480  P1936           450000   \n",
            "                       2019-11-12 12360       1715116  P0758           695000   \n",
            "                                                       P3042           310000   \n",
            "                       2019-12-09 12374       1729036  P1660          2795000   \n",
            "Bandar Lampung/Lampung 2019-01-15 12515       1619257  P0628           695000   \n",
            "\n",
            "                                                                   total_price  \n",
            "city/province          order_date customer_id order_id product_id               \n",
            "Banda Aceh/Aceh        2019-04-17 12818       1642480  P1936          10800000  \n",
            "                       2019-11-12 12360       1715116  P0758           5560000  \n",
            "                                                       P3042           3720000  \n",
            "                       2019-12-09 12374       1729036  P1660          11180000  \n",
            "Bandar Lampung/Lampung 2019-01-15 12515       1619257  P0628           8340000  \n",
            "\n",
            "[9] SLICE DATASET UNTUK BULAN JANUARI 2019 SAJA\n",
            "Dataset akhir:\n",
            "                                                                      brand  \\\n",
            "city/province          order_date customer_id order_id product_id            \n",
            "Bandar Lampung/Lampung 2019-01-15 12515       1619257  P0628       BRAND_C   \n",
            "Bandung/Jawa Barat     2019-01-09 16134       1617055  P1597       BRAND_G   \n",
            "                       2019-01-10 17392       1617952  P2137       BRAND_M   \n",
            "                       2019-01-14 15527       1618828  P3115       BRAND_S   \n",
            "                       2019-01-29 13253       1620289  P0099       BRAND_A   \n",
            "...                                                                    ...   \n",
            "unknown/unknown        2019-01-30 0           1620766  P3070       BRAND_R   \n",
            "                                                       P3483       BRAND_S   \n",
            "                       2019-01-31 0           1621057  P1298       BRAND_F   \n",
            "                                                       P1773       BRAND_H   \n",
            "                                                       P2877       BRAND_R   \n",
            "\n",
            "                                                                   quantity  \\\n",
            "city/province          order_date customer_id order_id product_id             \n",
            "Bandar Lampung/Lampung 2019-01-15 12515       1619257  P0628             12   \n",
            "Bandung/Jawa Barat     2019-01-09 16134       1617055  P1597              9   \n",
            "                       2019-01-10 17392       1617952  P2137              2   \n",
            "                       2019-01-14 15527       1618828  P3115              1   \n",
            "                       2019-01-29 13253       1620289  P0099             12   \n",
            "...                                                                     ...   \n",
            "unknown/unknown        2019-01-30 0           1620766  P3070              1   \n",
            "                                                       P3483              3   \n",
            "                       2019-01-31 0           1621057  P1298              1   \n",
            "                                                       P1773              5   \n",
            "                                                       P2877              1   \n",
            "\n",
            "                                                                   item_price  \\\n",
            "city/province          order_date customer_id order_id product_id               \n",
            "Bandar Lampung/Lampung 2019-01-15 12515       1619257  P0628           695000   \n",
            "Bandung/Jawa Barat     2019-01-09 16134       1617055  P1597           520000   \n",
            "                       2019-01-10 17392       1617952  P2137          1062000   \n",
            "                       2019-01-14 15527       1618828  P3115          1045000   \n",
            "                       2019-01-29 13253       1620289  P0099           450000   \n",
            "...                                                                       ...   \n",
            "unknown/unknown        2019-01-30 0           1620766  P3070           593000   \n",
            "                                                       P3483           593000   \n",
            "                       2019-01-31 0           1621057  P1298           296000   \n",
            "                                                       P1773           593000   \n",
            "                                                       P2877          1486000   \n",
            "\n",
            "                                                                   total_price  \n",
            "city/province          order_date customer_id order_id product_id               \n",
            "Bandar Lampung/Lampung 2019-01-15 12515       1619257  P0628           8340000  \n",
            "Bandung/Jawa Barat     2019-01-09 16134       1617055  P1597           4680000  \n",
            "                       2019-01-10 17392       1617952  P2137           2124000  \n",
            "                       2019-01-14 15527       1618828  P3115           1045000  \n",
            "                       2019-01-29 13253       1620289  P0099           5400000  \n",
            "...                                                                        ...  \n",
            "unknown/unknown        2019-01-30 0           1620766  P3070            593000  \n",
            "                                                       P3483           1779000  \n",
            "                       2019-01-31 0           1621057  P1298            296000  \n",
            "                                                       P1773           2965000  \n",
            "                                                       P2877           1486000  \n",
            "\n",
            "[334 rows x 4 columns]\n"
          ]
        }
      ]
    }
  ]
}