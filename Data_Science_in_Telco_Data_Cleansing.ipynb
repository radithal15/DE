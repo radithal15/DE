{
  "nbformat": 4,
  "nbformat_minor": 0,
  "metadata": {
    "colab": {
      "provenance": [],
      "authorship_tag": "ABX9TyMx2WegJ0n8B5d5cSvUtZsS",
      "include_colab_link": true
    },
    "kernelspec": {
      "name": "python3",
      "display_name": "Python 3"
    },
    "language_info": {
      "name": "python"
    }
  },
  "cells": [
    {
      "cell_type": "markdown",
      "metadata": {
        "id": "view-in-github",
        "colab_type": "text"
      },
      "source": [
        "<a href=\"https://colab.research.google.com/github/radithal15/DE-Komdigi/blob/main/Data_Science_in_Telco_Data_Cleansing.ipynb\" target=\"_parent\"><img src=\"https://colab.research.google.com/assets/colab-badge.svg\" alt=\"Open In Colab\"/></a>"
      ]
    },
    {
      "cell_type": "markdown",
      "source": [
        "# **Latar Belakang**\n",
        "\n",
        "DQLab Telco merupakan perusahaan Telco yang sudah mempunyai banyak cabang tersebar dimana-mana. Sejak berdiri pada tahun 2019, DQLab Telco konsisten untuk memperhatikan customer experience-nya sehingga tidak akan ditinggalkan pelanggan.\n",
        "\n",
        "Walaupun baru berumur 1 tahun lebih sedikit, DQLab Telco sudah mempunyai banyak pelanggan yang beralih langganan ke kompetitor. Pihak management ingin mengurangi jumlah pelanggan yang beralih (churn) dengan menggunakan machine learning.\n",
        "\n",
        "Oleh karena itu, tim Data Scientist diminta untuk mempersiapkan data sekaligus membuat model prediksi yang tepat untuk menentukan pelanggan akan berhenti berlangganan (churn) atau tidak."
      ],
      "metadata": {
        "id": "4ytvHjg1NCW0"
      }
    },
    {
      "cell_type": "markdown",
      "source": [
        "# **Data yang Digunakan**\n",
        "Untuk dataset yang digunakan sudah disediakan dalam format csv, silahkan baca melalui fungsi pandas di python df_load = pd.read_csv('https://storage.googleapis.com/dqlab-dataset/dqlab_telco.csv')\n",
        "\n",
        "\n",
        "Untuk detail datanya adalah sebagai berikut:\n",
        "\n",
        "**UpdatedAt** Periode of Data taken\n",
        "\n",
        "**customerID** Customer ID\n",
        "\n",
        "**gender** Whether the customer is a male or a female (Male, Female)\n",
        "\n",
        "**SeniorCitizen** Whether the customer is a senior citizen or not (1, 0)\n",
        "\n",
        "**Partner** Whether the customer has a partner or not (Yes, No)\n",
        "\n",
        "**Dependents** Whether the customer has dependents or not (Yes, No)\n",
        "\n",
        "**tenure** Number of months the customer has stayed with the company\n",
        "\n",
        "**PhoneService** Whether the customer has a phone service or not (Yes, No)\n",
        "\n",
        "**MultipleLines** Whether the customer has multiple lines or not (Yes, No, No phone service)\n",
        "\n",
        "**InternetService** Customer’s internet service provider (DSL, Fiber optic, No)\n",
        "\n",
        "**OnlineSecurity** Whether the customer has online security or not (Yes, No, No internet service)\n",
        "\n",
        "**OnlineBackup** Whether the customer has online backup or not (Yes, No, No internet service)\n",
        "\n",
        "**DeviceProtection** Whether the customer has device protection or not (Yes, No, No internet service)\n",
        "\n",
        "**TechSupport** Whether the customer has tech support or not (Yes, No, No internet service)\n",
        "\n",
        "**StreamingTV** Whether the customer has streaming TV or not (Yes, No, No internet service)\n",
        "\n",
        "**StreamingMovies** Whether the customer has streaming movies or not (Yes, No, No internet service)\n",
        "\n",
        "**Contract** The contract term of the customer (Month-to-month, One year, Two year)\n",
        "\n",
        "**PaperlessBilling** Whether the customer has paperless billing or not (Yes, No)\n",
        "\n",
        "**PaymentMethod** The customer’s payment method (Electronic check, Mailed check, Bank transfer (automatic), Credit card (automatic))\n",
        "\n",
        "**MonthlyCharges** The amount charged to the customer monthly\n",
        "\n",
        "**TotalCharges** The total amount charged to the customer\n",
        "\n",
        "**Churn** Whether the customer churned or not (Yes or No)"
      ],
      "metadata": {
        "id": "cd1jLpRKPDY_"
      }
    },
    {
      "cell_type": "markdown",
      "source": [
        "# **Library yang Digunakan**\n",
        "\n",
        "Pada analisis kali ini, akan digunakan beberapa package yang membantu kita dalam melakukan analisis data.\n",
        "\n",
        "**Pandas**\n",
        "\n",
        "Pandas (Python for Data Analysis) adalah library Python yang fokus untuk proses analisis data seperti manipulasi data, persiapan data, dan pembersihan data.\n",
        "\n",
        "read_csv() digunakan untuk membaca file csv\n",
        "\n",
        "str.match() digunakan untuk mencocokan dengan karakter tertentu\n",
        "\n",
        "drop() digunakan untuk menghapus\n",
        "\n",
        "count() digunakan untuk menghitung masing-masing variable\n",
        "\n",
        "drop_duplicates() digunakan untuk menghapus data duplicate rows\n",
        "\n",
        "fillna() digunakan untuk mengisi dengan nilai tertentu\n",
        "\n",
        "quantile() digunakan untuk melihat quantile ke tertentu\n",
        "\n",
        "mask() mengganti nilai tertentu jika kondisi memenuhi\n",
        "\n",
        "astype() mengubah tipe data\n",
        "\n",
        "value_counts() digunakan untuk menghitung unik dari kolom\n",
        "\n",
        "sort_values() digunakan untuk sort values\n",
        "\n",
        "isnull() digunakan untuk mendeteksi missing values\n",
        "\n",
        "dropna() digunakan untuk menghapus missing values\n",
        "\n",
        "replace() digunakan untuk mengganti nilai\n",
        "\n",
        "**Matplotlib**\n",
        "\n",
        "Matplotlib adalah library Python yang fokus pada visualisasi data seperti membuat plot grafik. Matplotlib dapat digunakan dalam skrip Python, Python dan IPython shell, server aplikasi web, dan beberapa toolkit graphical user interface (GUI) lainnya.\n",
        "\n",
        "figure() digunakan untuk membuat figure gambar baru\n",
        "\n",
        "**Seaborn**\n",
        "\n",
        "Seaborn membangun di atas Matplotlib dan memperkenalkan tipe plot tambahan. Ini juga membuat plot Matplotlib tradisional Anda terlihat sedikit lebih cantik.\n",
        "\n",
        "**box_plot()** digunakan untuk membuat box plot"
      ],
      "metadata": {
        "id": "Y5fKIgmGNc7j"
      }
    },
    {
      "cell_type": "markdown",
      "source": [
        "Import Library dan Dataset"
      ],
      "metadata": {
        "id": "fAcnOI9mHRzb"
      }
    },
    {
      "cell_type": "code",
      "execution_count": 14,
      "metadata": {
        "colab": {
          "base_uri": "https://localhost:8080/"
        },
        "id": "niu623NXHI07",
        "outputId": "162ee2b7-46b6-4b47-f7a4-3feb2bf4bb6e"
      },
      "outputs": [
        {
          "output_type": "stream",
          "name": "stdout",
          "text": [
            "(7113, 22)\n",
            "   UpdatedAt   customerID  gender  SeniorCitizen Partner Dependents  tenure  \\\n",
            "0     202006  45759018157  Female              0     Yes         No     1.0   \n",
            "1     202006  45557574145    Male              0      No         No    34.0   \n",
            "2     202006  45366876421    Male              0      No         No     2.0   \n",
            "3     202006  45779536532    Male              0      No         No    45.0   \n",
            "4     202006  45923787906  Female              0      No         No     2.0   \n",
            "\n",
            "  PhoneService     MultipleLines InternetService OnlineSecurity OnlineBackup  \\\n",
            "0           No  No phone service             DSL             No          Yes   \n",
            "1          Yes                No             DSL            Yes           No   \n",
            "2          Yes                No             DSL            Yes          Yes   \n",
            "3           No  No phone service             DSL            Yes           No   \n",
            "4          Yes                No     Fiber optic             No           No   \n",
            "\n",
            "  DeviceProtection TechSupport StreamingTV StreamingMovies        Contract  \\\n",
            "0               No          No          No              No  Month-to-month   \n",
            "1              Yes          No          No              No        One year   \n",
            "2               No          No          No              No  Month-to-month   \n",
            "3              Yes         Yes          No              No        One year   \n",
            "4               No          No          No              No  Month-to-month   \n",
            "\n",
            "  PaperlessBilling              PaymentMethod  MonthlyCharges  TotalCharges  \\\n",
            "0              Yes           Electronic check           29.85         29.85   \n",
            "1               No               Mailed check           56.95       1889.50   \n",
            "2              Yes               Mailed check           53.85        108.15   \n",
            "3               No  Bank transfer (automatic)           42.30       1840.75   \n",
            "4              Yes           Electronic check           70.70        151.65   \n",
            "\n",
            "  Churn  \n",
            "0    No  \n",
            "1    No  \n",
            "2   Yes  \n",
            "3    No  \n",
            "4   Yes  \n",
            "7017\n"
          ]
        }
      ],
      "source": [
        "#import library\n",
        "import pandas as pd\n",
        "pd.options.display.max_columns = 50\n",
        "\n",
        "#import dataset\n",
        "df_load = pd.read_csv('https://storage.googleapis.com/dqlab-dataset/dqlab_telco.csv')\n",
        "\n",
        "#Tampilkan jumlah baris dan kolom\n",
        "print(df_load.shape)\n",
        "\n",
        "#Tampilkan 5 data teratas\n",
        "print(df_load.head())\n",
        "\n",
        "#Jumlah ID yang unik\n",
        "print(df_load['customerID'].nunique())"
      ]
    },
    {
      "cell_type": "markdown",
      "source": [
        "Memfilter ID Number Pelanggan Format Tertentu"
      ],
      "metadata": {
        "id": "YQnBvDkvOJFK"
      }
    },
    {
      "cell_type": "code",
      "source": [
        "import pandas as pd\n",
        "df_load = pd.read_csv('https://storage.googleapis.com/dqlab-dataset/dqlab_telco.csv')\n",
        "\n",
        "df_load['valid_id'] = df_load['customerID'].astype(str).str.match(r'(45\\d{9,10})')\n",
        "df_load = (df_load[df_load['valid_id'] == True]).drop('valid_id', axis = 1)\n",
        "print('Hasil jumlah ID Customer yang terfilter adalah', df_load['customerID'].count())"
      ],
      "metadata": {
        "colab": {
          "base_uri": "https://localhost:8080/"
        },
        "id": "dO-L2a2qLvYJ",
        "outputId": "28186e03-00f2-4159-af44-9424f90b5b70"
      },
      "execution_count": 3,
      "outputs": [
        {
          "output_type": "stream",
          "name": "stdout",
          "text": [
            "Hasil jumlah ID Customer yang terfilter adalah 7006\n"
          ]
        }
      ]
    },
    {
      "cell_type": "markdown",
      "source": [
        "Memfilter Duplikasi ID Number Pelanggan"
      ],
      "metadata": {
        "id": "oQUPsvfOWR1s"
      }
    },
    {
      "cell_type": "code",
      "source": [
        "# Drop Duplicate Rows\n",
        "df_load.drop_duplicates()\n",
        "# Drop duplicate ID sorted by Periode\n",
        "df_load = df_load.sort_values('UpdatedAt', ascending=False).drop_duplicates('customerID')\n",
        "print('Hasil jumlah ID Customer yang sudah dihilangkan duplikasinya (distinct) adalah',df_load['customerID'].count())"
      ],
      "metadata": {
        "colab": {
          "base_uri": "https://localhost:8080/"
        },
        "id": "pfgLhevFWVL5",
        "outputId": "4306ccaf-e25f-4e17-c473-ef68d08dde23"
      },
      "execution_count": 4,
      "outputs": [
        {
          "output_type": "stream",
          "name": "stdout",
          "text": [
            "Hasil jumlah ID Customer yang sudah dihilangkan duplikasinya (distinct) adalah 6993\n"
          ]
        }
      ]
    },
    {
      "cell_type": "markdown",
      "source": [
        "# **Kesimpulan**\n",
        "\n",
        "Validitas dari ID Number pelanggan sangat diperlukan untuk memastikan bahwa data yang kita ambil sudah benar. Berdasarkan hasil tersebut, terdapat perbedaan jumlah nomor ID dari data pertama kali di load sampai dengan hasil akhir. Jumlah row data ketika pertama kali di load ada sebanyak 7113 rows dan 22 columns dengan 7017 jumlah ID yang unique. Kemudian setelah di cek validitas dari ID pelanggan, maka tersisa 6993 rows data"
      ],
      "metadata": {
        "id": "j1x-LiFqsM1f"
      }
    },
    {
      "cell_type": "markdown",
      "source": [
        "Mengatasi Missing Values dengan Penghapusan Rows"
      ],
      "metadata": {
        "id": "nkQpmGGssdOz"
      }
    },
    {
      "cell_type": "code",
      "source": [
        "print('Total missing values data dari kolom Churn',df_load['Churn'].isnull().sum())\n",
        "# Dropping all Rows with spesific column (churn)\n",
        "df_load.dropna(subset=['Churn'],inplace=True)\n",
        "print('Total Rows dan kolom Data setelah dihapus data Missing Values adalah',df_load.shape)"
      ],
      "metadata": {
        "colab": {
          "base_uri": "https://localhost:8080/"
        },
        "id": "6ocJqXFwshBb",
        "outputId": "309c6cc3-9f64-48ce-d24c-2c424e0f5add"
      },
      "execution_count": 15,
      "outputs": [
        {
          "output_type": "stream",
          "name": "stdout",
          "text": [
            "Total missing values data dari kolom Churn 43\n",
            "Total Rows dan kolom Data setelah dihapus data Missing Values adalah (7070, 22)\n"
          ]
        }
      ]
    },
    {
      "cell_type": "markdown",
      "source": [
        "Mengatasi Missing Values dengan Pengisian Nilai tertentu"
      ],
      "metadata": {
        "id": "wEC5POa0trdB"
      }
    },
    {
      "cell_type": "code",
      "source": [
        "print('Status Missing Values :',df_load.isnull().values.any())\n",
        "print('\\nJumlah Missing Values masing-masing kolom, adalah:')\n",
        "print(df_load.isnull().sum().sort_values(ascending=False))\n",
        "\n",
        "#handling missing values Tenure fill with 11\n",
        "df_load['tenure'].fillna(11, inplace=True)\n",
        "\n",
        "# Loop untuk mengisi missing values pada kolom numeric selain tenure\n",
        "# Gunakan nama variabel median (bukan median_val, x, dll) agar sesuai instruksi dan bisa terbaca auto-grader\n",
        "for col_name in list(['MonthlyCharges', 'TotalCharges']):\n",
        "\tmedian = df_load[col_name].median()\n",
        "\tdf_load[col_name].fillna(median, inplace=True)\n",
        "\n",
        "print('\\nJumlah Missing Values setelah di imputer datanya, adalah:')\n",
        "print(df_load.isnull().sum().sort_values(ascending=False))"
      ],
      "metadata": {
        "id": "8x9CmUtxtroD",
        "colab": {
          "base_uri": "https://localhost:8080/"
        },
        "outputId": "241f6dd0-15ab-4109-8e81-28f9d331aa42"
      },
      "execution_count": 16,
      "outputs": [
        {
          "output_type": "stream",
          "name": "stdout",
          "text": [
            "Status Missing Values : True\n",
            "\n",
            "Jumlah Missing Values masing-masing kolom, adalah:\n",
            "tenure              99\n",
            "MonthlyCharges      26\n",
            "TotalCharges        15\n",
            "gender               0\n",
            "UpdatedAt            0\n",
            "customerID           0\n",
            "Dependents           0\n",
            "Partner              0\n",
            "SeniorCitizen        0\n",
            "PhoneService         0\n",
            "OnlineSecurity       0\n",
            "OnlineBackup         0\n",
            "MultipleLines        0\n",
            "InternetService      0\n",
            "TechSupport          0\n",
            "DeviceProtection     0\n",
            "StreamingTV          0\n",
            "StreamingMovies      0\n",
            "PaperlessBilling     0\n",
            "Contract             0\n",
            "PaymentMethod        0\n",
            "Churn                0\n",
            "dtype: int64\n",
            "\n",
            "Jumlah Missing Values setelah di imputer datanya, adalah:\n",
            "UpdatedAt           0\n",
            "customerID          0\n",
            "gender              0\n",
            "SeniorCitizen       0\n",
            "Partner             0\n",
            "Dependents          0\n",
            "tenure              0\n",
            "PhoneService        0\n",
            "MultipleLines       0\n",
            "InternetService     0\n",
            "OnlineSecurity      0\n",
            "OnlineBackup        0\n",
            "DeviceProtection    0\n",
            "TechSupport         0\n",
            "StreamingTV         0\n",
            "StreamingMovies     0\n",
            "Contract            0\n",
            "PaperlessBilling    0\n",
            "PaymentMethod       0\n",
            "MonthlyCharges      0\n",
            "TotalCharges        0\n",
            "Churn               0\n",
            "dtype: int64\n"
          ]
        },
        {
          "output_type": "stream",
          "name": "stderr",
          "text": [
            "/tmp/ipython-input-2916017334.py:6: FutureWarning: A value is trying to be set on a copy of a DataFrame or Series through chained assignment using an inplace method.\n",
            "The behavior will change in pandas 3.0. This inplace method will never work because the intermediate object on which we are setting values always behaves as a copy.\n",
            "\n",
            "For example, when doing 'df[col].method(value, inplace=True)', try using 'df.method({col: value}, inplace=True)' or df[col] = df[col].method(value) instead, to perform the operation inplace on the original object.\n",
            "\n",
            "\n",
            "  df_load['tenure'].fillna(11, inplace=True)\n",
            "/tmp/ipython-input-2916017334.py:12: FutureWarning: A value is trying to be set on a copy of a DataFrame or Series through chained assignment using an inplace method.\n",
            "The behavior will change in pandas 3.0. This inplace method will never work because the intermediate object on which we are setting values always behaves as a copy.\n",
            "\n",
            "For example, when doing 'df[col].method(value, inplace=True)', try using 'df.method({col: value}, inplace=True)' or df[col] = df[col].method(value) instead, to perform the operation inplace on the original object.\n",
            "\n",
            "\n",
            "  df_load[col_name].fillna(median, inplace=True)\n"
          ]
        }
      ]
    },
    {
      "cell_type": "markdown",
      "source": [
        "Mendeteksi Adanya Outlier Menggunakan Boxplot"
      ],
      "metadata": {
        "id": "78G0FwHOKOPR"
      }
    },
    {
      "cell_type": "code",
      "source": [
        "print('\\nPersebaran data sebelum ditangani Outlier: ')\n",
        "print(df_load[['tenure','MonthlyCharges','TotalCharges']].describe())\n",
        "\n",
        "# Creating Box Plot\n",
        "import matplotlib.pyplot as plt\n",
        "import seaborn as sns\n",
        "\n",
        "# Misal untuk kolom tenure\n",
        "plt.figure()\n",
        "sns.boxplot(x=df_load['tenure'])\n",
        "plt.show()\n",
        "plt.figure()\n",
        "sns.boxplot(x=df_load['MonthlyCharges'])\n",
        "plt.show()\n",
        "plt.figure()\n",
        "sns.boxplot(x=df_load['TotalCharges'])\n",
        "plt.show()"
      ],
      "metadata": {
        "colab": {
          "base_uri": "https://localhost:8080/",
          "height": 1000
        },
        "id": "AGyzNN0zKhY2",
        "outputId": "5539c514-7e82-4dc7-de35-e5deb6ab4f66"
      },
      "execution_count": 9,
      "outputs": [
        {
          "output_type": "stream",
          "name": "stdout",
          "text": [
            "\n",
            "Persebaran data sebelum ditangani Outlier: \n",
            "            tenure  MonthlyCharges  TotalCharges\n",
            "count  6950.000000     6950.000000   6950.000000\n",
            "mean     32.477266       65.783741   2305.083460\n",
            "std      25.188910       50.457871   2578.651143\n",
            "min       0.000000        0.000000     19.000000\n",
            "25%       9.000000       36.462500    406.975000\n",
            "50%      29.000000       70.450000   1400.850000\n",
            "75%      55.000000       89.850000   3799.837500\n",
            "max     500.000000     2311.000000  80000.000000\n"
          ]
        },
        {
          "output_type": "display_data",
          "data": {
            "text/plain": [
              "<Figure size 640x480 with 1 Axes>"
            ],
            "image/png": "[encoded data removed]"
          },
          "metadata": {}
        },
        {
          "output_type": "display_data",
          "data": {
            "text/plain": [
              "<Figure size 640x480 with 1 Axes>"
            ],
            "image/png": "[encoded data removed]"
          },
          "metadata": {}
        },
        {
          "output_type": "display_data",
          "data": {
            "text/plain": [
              "<Figure size 640x480 with 1 Axes>"
            ],
            "image/png": "[encoded data removed]"
          },
          "metadata": {}
        }
      ]
    },
    {
      "cell_type": "markdown",
      "source": [
        "Mengatasi Outlier"
      ],
      "metadata": {
        "id": "ddfA2x5PL-Dj"
      }
    },
    {
      "cell_type": "code",
      "source": [
        "Q1 = (df_load[['tenure','MonthlyCharges','TotalCharges']]).quantile(0.25)\n",
        "Q3 = (df_load[['tenure','MonthlyCharges','TotalCharges']]).quantile(0.75)\n",
        "\n",
        "IQR = Q3 - Q1\n",
        "maximum = Q3 + (1.5*IQR)\n",
        "print('Nilai Maximum dari masing-masing Variable adalah: ')\n",
        "print(maximum)\n",
        "minimum = Q1 - (1.5*IQR)\n",
        "print('\\nNilai Minimum dari masing-masing Variable adalah: ')\n",
        "print(minimum)\n",
        "\n",
        "# Apply outlier handling only to the specified columns\n",
        "df_load[['tenure','MonthlyCharges','TotalCharges']] = df_load[['tenure','MonthlyCharges','TotalCharges']].mask(df_load[['tenure','MonthlyCharges','TotalCharges']] > maximum, maximum, axis=1)\n",
        "df_load[['tenure','MonthlyCharges','TotalCharges']] = df_load[['tenure','MonthlyCharges','TotalCharges']].mask(df_load[['tenure','MonthlyCharges','TotalCharges']] < minimum, minimum, axis=1)\n",
        "\n",
        "\n",
        "print('\\nPersebaran data setelah ditangani Outlier: ')\n",
        "print(df_load[['tenure','MonthlyCharges','TotalCharges']].describe())"
      ],
      "metadata": {
        "colab": {
          "base_uri": "https://localhost:8080/"
        },
        "id": "2DFxInV7L-bE",
        "outputId": "949a5c63-77d1-4c95-bf88-caf70c106f76"
      },
      "execution_count": 18,
      "outputs": [
        {
          "output_type": "stream",
          "name": "stdout",
          "text": [
            "Nilai Maximum dari masing-masing Variable adalah: \n",
            "tenure             124.00000\n",
            "MonthlyCharges     170.45625\n",
            "TotalCharges      8864.95000\n",
            "dtype: float64\n",
            "\n",
            "Nilai Minimum dari masing-masing Variable adalah: \n",
            "tenure             -60.00000\n",
            "MonthlyCharges     -44.49375\n",
            "TotalCharges     -4673.85000\n",
            "dtype: float64\n",
            "\n",
            "Persebaran data setelah ditangani Outlier: \n",
            "            tenure  MonthlyCharges  TotalCharges\n",
            "count  7070.000000     7070.000000   7070.000000\n",
            "mean     32.376379       64.977649   2282.880764\n",
            "std      24.573820       30.095452   2265.515374\n",
            "min       0.000000        0.000000     19.000000\n",
            "25%       9.000000       36.112500    403.200000\n",
            "50%      29.000000       70.425000   1398.250000\n",
            "75%      55.000000       89.850000   3787.900000\n",
            "max     124.000000      170.456250   8864.950000\n"
          ]
        }
      ]
    },
    {
      "cell_type": "markdown",
      "source": [
        "Mendeteksi Nilai yang tidak Standar"
      ],
      "metadata": {
        "id": "xfG_777sPmfi"
      }
    },
    {
      "cell_type": "code",
      "source": [
        "#Loop\n",
        "for col_name in list(['gender','SeniorCitizen','Partner','Dependents','PhoneService','MultipleLines','InternetService','OnlineSecurity','OnlineBackup','DeviceProtection','TechSupport','StreamingTV','StreamingMovies','Contract','PaperlessBilling','PaymentMethod','Churn']):\n",
        "\tprint('\\nUnique Values Count Before Standardized Variable',col_name)\n",
        "\tprint(df_load[col_name].value_counts())"
      ],
      "metadata": {
        "colab": {
          "base_uri": "https://localhost:8080/"
        },
        "id": "zzgVqo7-P6IF",
        "outputId": "51917502-6598-460b-9f67-ba027b485928"
      },
      "execution_count": 27,
      "outputs": [
        {
          "output_type": "stream",
          "name": "stdout",
          "text": [
            "\n",
            "Unique Values Count Before Standardized Variable gender\n",
            "gender\n",
            "Male         3559\n",
            "Female       3491\n",
            "Wanita         14\n",
            "Laki-Laki       6\n",
            "Name: count, dtype: int64\n",
            "\n",
            "Unique Values Count Before Standardized Variable SeniorCitizen\n",
            "SeniorCitizen\n",
            "0    5922\n",
            "1    1148\n",
            "Name: count, dtype: int64\n",
            "\n",
            "Unique Values Count Before Standardized Variable Partner\n",
            "Partner\n",
            "No     3657\n",
            "Yes    3413\n",
            "Name: count, dtype: int64\n",
            "\n",
            "Unique Values Count Before Standardized Variable Dependents\n",
            "Dependents\n",
            "No     4951\n",
            "Yes    2099\n",
            "Iya      20\n",
            "Name: count, dtype: int64\n",
            "\n",
            "Unique Values Count Before Standardized Variable PhoneService\n",
            "PhoneService\n",
            "Yes    6386\n",
            "No      684\n",
            "Name: count, dtype: int64\n",
            "\n",
            "Unique Values Count Before Standardized Variable MultipleLines\n",
            "MultipleLines\n",
            "No                  3404\n",
            "Yes                 2982\n",
            "No phone service     684\n",
            "Name: count, dtype: int64\n",
            "\n",
            "Unique Values Count Before Standardized Variable InternetService\n",
            "InternetService\n",
            "Fiber optic    3108\n",
            "DSL            2429\n",
            "No             1533\n",
            "Name: count, dtype: int64\n",
            "\n",
            "Unique Values Count Before Standardized Variable OnlineSecurity\n",
            "OnlineSecurity\n",
            "No                     3510\n",
            "Yes                    2027\n",
            "No internet service    1533\n",
            "Name: count, dtype: int64\n",
            "\n",
            "Unique Values Count Before Standardized Variable OnlineBackup\n",
            "OnlineBackup\n",
            "No                     3101\n",
            "Yes                    2436\n",
            "No internet service    1533\n",
            "Name: count, dtype: int64\n",
            "\n",
            "Unique Values Count Before Standardized Variable DeviceProtection\n",
            "DeviceProtection\n",
            "No                     3100\n",
            "Yes                    2437\n",
            "No internet service    1533\n",
            "Name: count, dtype: int64\n",
            "\n",
            "Unique Values Count Before Standardized Variable TechSupport\n",
            "TechSupport\n",
            "No                     3485\n",
            "Yes                    2052\n",
            "No internet service    1533\n",
            "Name: count, dtype: int64\n",
            "\n",
            "Unique Values Count Before Standardized Variable StreamingTV\n",
            "StreamingTV\n",
            "No                     2823\n",
            "Yes                    2714\n",
            "No internet service    1533\n",
            "Name: count, dtype: int64\n",
            "\n",
            "Unique Values Count Before Standardized Variable StreamingMovies\n",
            "StreamingMovies\n",
            "No                     2792\n",
            "Yes                    2745\n",
            "No internet service    1533\n",
            "Name: count, dtype: int64\n",
            "\n",
            "Unique Values Count Before Standardized Variable Contract\n",
            "Contract\n",
            "Month-to-month    3887\n",
            "Two year          1702\n",
            "One year          1481\n",
            "Name: count, dtype: int64\n",
            "\n",
            "Unique Values Count Before Standardized Variable PaperlessBilling\n",
            "PaperlessBilling\n",
            "Yes    4183\n",
            "No     2887\n",
            "Name: count, dtype: int64\n",
            "\n",
            "Unique Values Count Before Standardized Variable PaymentMethod\n",
            "PaymentMethod\n",
            "Electronic check             2374\n",
            "Mailed check                 1617\n",
            "Bank transfer (automatic)    1547\n",
            "Credit card (automatic)      1532\n",
            "Name: count, dtype: int64\n",
            "\n",
            "Unique Values Count Before Standardized Variable Churn\n",
            "Churn\n",
            "No       5195\n",
            "Yes      1866\n",
            "Churn       9\n",
            "Name: count, dtype: int64\n"
          ]
        }
      ]
    },
    {
      "cell_type": "markdown",
      "source": [
        "Menstandarisasi Variable Kategorik"
      ],
      "metadata": {
        "id": "-gSn4egrTrH4"
      }
    },
    {
      "cell_type": "code",
      "source": [
        "df_load = df_load.replace(['Wanita', 'Laki-Laki', 'Churn', 'Iya'], ['Female', 'Male', 'Yes', 'Yes'])\n",
        "\n",
        "#Loop\n",
        "for col_name in list(['gender', 'Dependents', 'Churn']):\n",
        "\t\t\t\t\t\t\t\t\t\t\t\t\t\t\t\t   print('\\nUnique Values Count After Standardized Variable', col_name)\n",
        "\t\t\t\t\t\t\t\t\t\t\t\t\t\t\t\t   print(df_load[col_name].value_counts())"
      ],
      "metadata": {
        "colab": {
          "base_uri": "https://localhost:8080/"
        },
        "id": "l7l_ltFnTrev",
        "outputId": "02a15282-ad2d-41b9-96c0-72c871378e41"
      },
      "execution_count": 29,
      "outputs": [
        {
          "output_type": "stream",
          "name": "stdout",
          "text": [
            "\n",
            "Unique Values Count After Standardized Variable gender\n",
            "gender\n",
            "Male      3565\n",
            "Female    3505\n",
            "Name: count, dtype: int64\n",
            "\n",
            "Unique Values Count After Standardized Variable Dependents\n",
            "Dependents\n",
            "No     4951\n",
            "Yes    2119\n",
            "Name: count, dtype: int64\n",
            "\n",
            "Unique Values Count After Standardized Variable Churn\n",
            "Churn\n",
            "No     5195\n",
            "Yes    1875\n",
            "Name: count, dtype: int64\n"
          ]
        }
      ]
    }
  ]
}